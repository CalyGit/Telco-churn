{
 "cells": [
  {
   "cell_type": "markdown",
   "id": "6c162394",
   "metadata": {},
   "source": [
    "## Project Title: Predicting Customer Churn: Uncovering Key Indicators and Retention Strategies\n"
   ]
  },
  {
   "cell_type": "markdown",
   "id": "b22afeae",
   "metadata": {},
   "source": [
    "## Introduction\n",
    "\n",
    "Customer churn, also known as customer attrition or customer turnover, refers to the percentage of customers who cease using a company's product or service within a given timeframe. Understanding and predicting customer churn is crucial for organizations as it directly impacts their profitability and growth. By identifying the factors that contribute to churn, businesses can develop effective retention strategies to mitigate this problem.\n",
    "\n",
    "In this project, we will analyze a dataset containing various customer attributes such as gender, age, partner status, internet service provider, contract term, and payment method, among others. We aim to explore the relationship between these attributes and the likelihood of customer churn. By conducting a thorough analysis, we can uncover key indicators of churn and identify patterns that indicate a higher propensity for customers to leave the organization."
   ]
  },
  {
   "cell_type": "markdown",
   "id": "11ecdb15",
   "metadata": {},
   "source": [
    "## Objectives\n",
    "\n",
    "1.Build a classification model to predict customer churn and assess the likelihood of a customer leaving the organization.\n",
    "\n",
    "2.Identify key indicators or factors that contribute to customer churn.\n",
    "\n",
    "3.Formulate effective retention strategies based on the identified indicators to mitigate customer attrition."
   ]
  },
  {
   "cell_type": "markdown",
   "id": "0848d2f6",
   "metadata": {},
   "source": [
    "## Hypothesis\n",
    "\n",
    "**Null Hypothesis**: There is no significant relationship between the various customer attributes and the likelihood of customer churn.\n",
    "\n",
    "**Alternatative Hypothesis**: There is a significant relationship between the various customer attributes and the likelihood of customer churn."
   ]
  },
  {
   "cell_type": "markdown",
   "id": "ccfdfac8",
   "metadata": {},
   "source": [
    "## Questions\n",
    "\n",
    "1.What are the key indicators of customer churn in this dataset?\n",
    "\n",
    "2.Is there any correlation between the type of internet service provider and customer churn?\n",
    "\n",
    "3.What is the relationship between contract terms and customer churn?\n",
    "\n",
    "4.Which payment method is associated with higher customer churn?\n",
    "\n",
    "5.How can the organization leverage payment methods, contract terms, and billing preferences to reduce churn?"
   ]
  },
  {
   "cell_type": "markdown",
   "id": "ea3831f9",
   "metadata": {},
   "source": [
    "## Importing python libraries"
   ]
  },
  {
   "cell_type": "code",
   "execution_count": 1,
   "id": "e18638a8",
   "metadata": {
    "scrolled": true
   },
   "outputs": [
    {
     "name": "stdout",
     "output_type": "stream",
     "text": [
      "Defaulting to user installation because normal site-packages is not writeable\n",
      "Requirement already satisfied: pyodbc in c:\\programdata\\anaconda3\\lib\\site-packages (4.0.32)\n",
      "Note: you may need to restart the kernel to use updated packages.\n",
      "Defaulting to user installation because normal site-packages is not writeable\n",
      "Requirement already satisfied: python-dotenv in c:\\users\\wycliffe\\appdata\\roaming\\python\\python39\\site-packages (1.0.0)\n",
      "Note: you may need to restart the kernel to use updated packages.\n"
     ]
    }
   ],
   "source": [
    "%pip install pyodbc \n",
    "%pip install python-dotenv"
   ]
  },
  {
   "cell_type": "code",
   "execution_count": 2,
   "id": "c5cbfcec",
   "metadata": {},
   "outputs": [],
   "source": [
    "import pyodbc\n",
    "import pandas as pd\n",
    "from dotenv import dotenv_values\n",
    "import warnings\n",
    "import numpy as np\n",
    "import matplotlib.pyplot as plt\n",
    "import seaborn as sns\n",
    "import sklearn\n",
    "from sklearn.impute import SimpleImputer\n",
    "from sklearn.model_selection import train_test_split, GridSearchCV\n",
    "from sklearn.preprocessing import OneHotEncoder, LabelEncoder, StandardScaler\n",
    "from imblearn.over_sampling import SMOTE\n",
    "from sklearn.neighbors import KNeighborsClassifier\n",
    "from sklearn.ensemble import RandomForestClassifier, GradientBoostingClassifier, AdaBoostClassifier\n",
    "from sklearn.metrics import accuracy_score, precision_score, recall_score, f1_score, fbeta_score\n",
    "import pickle\n",
    "\n",
    "warnings.filterwarnings('ignore')"
   ]
  },
  {
   "cell_type": "markdown",
   "id": "d64d7e9e",
   "metadata": {},
   "source": [
    "## Data Loading\n",
    "This dataset is a concatenation of three datasets extracted from different sources as follows:\n",
    "1. SQL Database.(named _LP2_Telco_churn_first_3000_)\n",
    "1. OneDrive.(_Telco-churn-second-2000.csv_)\n",
    "1. Github repository.(_LP2_Telco-churn-last-2000.csv_)\n"
   ]
  },
  {
   "cell_type": "code",
   "execution_count": 3,
   "id": "1c3a0b99",
   "metadata": {},
   "outputs": [],
   "source": [
    "# Load environment variables from .env file into a dictionary\n",
    "environment_variables = dotenv_values('.env')"
   ]
  },
  {
   "cell_type": "code",
   "execution_count": 4,
   "id": "bba71776",
   "metadata": {},
   "outputs": [],
   "source": [
    "\n",
    "server = environment_variables.get(\"server\")\n",
    "database = environment_variables.get(\"database\")\n",
    "username = environment_variables.get(\"username\")\n",
    "password = environment_variables.get(\"password\")\n",
    "\n",
    "connection_string = f\"DRIVER={{SQL Server}};SERVER={server};DATABASE={database};UID={username};PWD={password}\""
   ]
  },
  {
   "cell_type": "code",
   "execution_count": 5,
   "id": "d5800274",
   "metadata": {},
   "outputs": [],
   "source": [
    "# connect to SQL Database\n",
    "connection = pyodbc.connect(connection_string)"
   ]
  },
  {
   "cell_type": "code",
   "execution_count": 6,
   "id": "3b3f6bac",
   "metadata": {},
   "outputs": [],
   "source": [
    "# query database to read the selected table\n",
    "query = \"Select * from dbo.LP2_Telco_churn_first_3000\"\n",
    "data = pd.read_sql(query, connection)"
   ]
  },
  {
   "cell_type": "code",
   "execution_count": 7,
   "id": "04ff69fd",
   "metadata": {},
   "outputs": [
    {
     "data": {
      "text/html": [
       "<div>\n",
       "<style scoped>\n",
       "    .dataframe tbody tr th:only-of-type {\n",
       "        vertical-align: middle;\n",
       "    }\n",
       "\n",
       "    .dataframe tbody tr th {\n",
       "        vertical-align: top;\n",
       "    }\n",
       "\n",
       "    .dataframe thead th {\n",
       "        text-align: right;\n",
       "    }\n",
       "</style>\n",
       "<table border=\"1\" class=\"dataframe\">\n",
       "  <thead>\n",
       "    <tr style=\"text-align: right;\">\n",
       "      <th></th>\n",
       "      <th>customerID</th>\n",
       "      <th>gender</th>\n",
       "      <th>SeniorCitizen</th>\n",
       "      <th>Partner</th>\n",
       "      <th>Dependents</th>\n",
       "      <th>tenure</th>\n",
       "      <th>PhoneService</th>\n",
       "      <th>MultipleLines</th>\n",
       "      <th>InternetService</th>\n",
       "      <th>OnlineSecurity</th>\n",
       "      <th>...</th>\n",
       "      <th>DeviceProtection</th>\n",
       "      <th>TechSupport</th>\n",
       "      <th>StreamingTV</th>\n",
       "      <th>StreamingMovies</th>\n",
       "      <th>Contract</th>\n",
       "      <th>PaperlessBilling</th>\n",
       "      <th>PaymentMethod</th>\n",
       "      <th>MonthlyCharges</th>\n",
       "      <th>TotalCharges</th>\n",
       "      <th>Churn</th>\n",
       "    </tr>\n",
       "  </thead>\n",
       "  <tbody>\n",
       "    <tr>\n",
       "      <th>0</th>\n",
       "      <td>7590-VHVEG</td>\n",
       "      <td>Female</td>\n",
       "      <td>False</td>\n",
       "      <td>True</td>\n",
       "      <td>False</td>\n",
       "      <td>1</td>\n",
       "      <td>False</td>\n",
       "      <td>None</td>\n",
       "      <td>DSL</td>\n",
       "      <td>False</td>\n",
       "      <td>...</td>\n",
       "      <td>False</td>\n",
       "      <td>False</td>\n",
       "      <td>False</td>\n",
       "      <td>False</td>\n",
       "      <td>Month-to-month</td>\n",
       "      <td>True</td>\n",
       "      <td>Electronic check</td>\n",
       "      <td>29.850000</td>\n",
       "      <td>29.850000</td>\n",
       "      <td>False</td>\n",
       "    </tr>\n",
       "    <tr>\n",
       "      <th>1</th>\n",
       "      <td>5575-GNVDE</td>\n",
       "      <td>Male</td>\n",
       "      <td>False</td>\n",
       "      <td>False</td>\n",
       "      <td>False</td>\n",
       "      <td>34</td>\n",
       "      <td>True</td>\n",
       "      <td>False</td>\n",
       "      <td>DSL</td>\n",
       "      <td>True</td>\n",
       "      <td>...</td>\n",
       "      <td>True</td>\n",
       "      <td>False</td>\n",
       "      <td>False</td>\n",
       "      <td>False</td>\n",
       "      <td>One year</td>\n",
       "      <td>False</td>\n",
       "      <td>Mailed check</td>\n",
       "      <td>56.950001</td>\n",
       "      <td>1889.500000</td>\n",
       "      <td>False</td>\n",
       "    </tr>\n",
       "    <tr>\n",
       "      <th>2</th>\n",
       "      <td>3668-QPYBK</td>\n",
       "      <td>Male</td>\n",
       "      <td>False</td>\n",
       "      <td>False</td>\n",
       "      <td>False</td>\n",
       "      <td>2</td>\n",
       "      <td>True</td>\n",
       "      <td>False</td>\n",
       "      <td>DSL</td>\n",
       "      <td>True</td>\n",
       "      <td>...</td>\n",
       "      <td>False</td>\n",
       "      <td>False</td>\n",
       "      <td>False</td>\n",
       "      <td>False</td>\n",
       "      <td>Month-to-month</td>\n",
       "      <td>True</td>\n",
       "      <td>Mailed check</td>\n",
       "      <td>53.849998</td>\n",
       "      <td>108.150002</td>\n",
       "      <td>True</td>\n",
       "    </tr>\n",
       "    <tr>\n",
       "      <th>3</th>\n",
       "      <td>7795-CFOCW</td>\n",
       "      <td>Male</td>\n",
       "      <td>False</td>\n",
       "      <td>False</td>\n",
       "      <td>False</td>\n",
       "      <td>45</td>\n",
       "      <td>False</td>\n",
       "      <td>None</td>\n",
       "      <td>DSL</td>\n",
       "      <td>True</td>\n",
       "      <td>...</td>\n",
       "      <td>True</td>\n",
       "      <td>True</td>\n",
       "      <td>False</td>\n",
       "      <td>False</td>\n",
       "      <td>One year</td>\n",
       "      <td>False</td>\n",
       "      <td>Bank transfer (automatic)</td>\n",
       "      <td>42.299999</td>\n",
       "      <td>1840.750000</td>\n",
       "      <td>False</td>\n",
       "    </tr>\n",
       "    <tr>\n",
       "      <th>4</th>\n",
       "      <td>9237-HQITU</td>\n",
       "      <td>Female</td>\n",
       "      <td>False</td>\n",
       "      <td>False</td>\n",
       "      <td>False</td>\n",
       "      <td>2</td>\n",
       "      <td>True</td>\n",
       "      <td>False</td>\n",
       "      <td>Fiber optic</td>\n",
       "      <td>False</td>\n",
       "      <td>...</td>\n",
       "      <td>False</td>\n",
       "      <td>False</td>\n",
       "      <td>False</td>\n",
       "      <td>False</td>\n",
       "      <td>Month-to-month</td>\n",
       "      <td>True</td>\n",
       "      <td>Electronic check</td>\n",
       "      <td>70.699997</td>\n",
       "      <td>151.649994</td>\n",
       "      <td>True</td>\n",
       "    </tr>\n",
       "  </tbody>\n",
       "</table>\n",
       "<p>5 rows × 21 columns</p>\n",
       "</div>"
      ],
      "text/plain": [
       "   customerID  gender  SeniorCitizen  Partner  Dependents  tenure  \\\n",
       "0  7590-VHVEG  Female          False     True       False       1   \n",
       "1  5575-GNVDE    Male          False    False       False      34   \n",
       "2  3668-QPYBK    Male          False    False       False       2   \n",
       "3  7795-CFOCW    Male          False    False       False      45   \n",
       "4  9237-HQITU  Female          False    False       False       2   \n",
       "\n",
       "   PhoneService MultipleLines InternetService OnlineSecurity  ...  \\\n",
       "0         False          None             DSL          False  ...   \n",
       "1          True         False             DSL           True  ...   \n",
       "2          True         False             DSL           True  ...   \n",
       "3         False          None             DSL           True  ...   \n",
       "4          True         False     Fiber optic          False  ...   \n",
       "\n",
       "  DeviceProtection TechSupport StreamingTV StreamingMovies        Contract  \\\n",
       "0            False       False       False           False  Month-to-month   \n",
       "1             True       False       False           False        One year   \n",
       "2            False       False       False           False  Month-to-month   \n",
       "3             True        True       False           False        One year   \n",
       "4            False       False       False           False  Month-to-month   \n",
       "\n",
       "  PaperlessBilling              PaymentMethod MonthlyCharges  TotalCharges  \\\n",
       "0             True           Electronic check      29.850000     29.850000   \n",
       "1            False               Mailed check      56.950001   1889.500000   \n",
       "2             True               Mailed check      53.849998    108.150002   \n",
       "3            False  Bank transfer (automatic)      42.299999   1840.750000   \n",
       "4             True           Electronic check      70.699997    151.649994   \n",
       "\n",
       "   Churn  \n",
       "0  False  \n",
       "1  False  \n",
       "2   True  \n",
       "3  False  \n",
       "4   True  \n",
       "\n",
       "[5 rows x 21 columns]"
      ]
     },
     "execution_count": 7,
     "metadata": {},
     "output_type": "execute_result"
    }
   ],
   "source": [
    "data.head()"
   ]
  },
  {
   "cell_type": "code",
   "execution_count": 8,
   "id": "91b41da9",
   "metadata": {},
   "outputs": [],
   "source": [
    "data.to_csv('LP2_Telco_churn_first_3000.csv')"
   ]
  },
  {
   "cell_type": "code",
   "execution_count": 9,
   "id": "05206293",
   "metadata": {},
   "outputs": [
    {
     "data": {
      "text/html": [
       "<div>\n",
       "<style scoped>\n",
       "    .dataframe tbody tr th:only-of-type {\n",
       "        vertical-align: middle;\n",
       "    }\n",
       "\n",
       "    .dataframe tbody tr th {\n",
       "        vertical-align: top;\n",
       "    }\n",
       "\n",
       "    .dataframe thead th {\n",
       "        text-align: right;\n",
       "    }\n",
       "</style>\n",
       "<table border=\"1\" class=\"dataframe\">\n",
       "  <thead>\n",
       "    <tr style=\"text-align: right;\">\n",
       "      <th></th>\n",
       "      <th>customerID</th>\n",
       "      <th>gender</th>\n",
       "      <th>SeniorCitizen</th>\n",
       "      <th>Partner</th>\n",
       "      <th>Dependents</th>\n",
       "      <th>tenure</th>\n",
       "      <th>PhoneService</th>\n",
       "      <th>MultipleLines</th>\n",
       "      <th>InternetService</th>\n",
       "      <th>OnlineSecurity</th>\n",
       "      <th>...</th>\n",
       "      <th>DeviceProtection</th>\n",
       "      <th>TechSupport</th>\n",
       "      <th>StreamingTV</th>\n",
       "      <th>StreamingMovies</th>\n",
       "      <th>Contract</th>\n",
       "      <th>PaperlessBilling</th>\n",
       "      <th>PaymentMethod</th>\n",
       "      <th>MonthlyCharges</th>\n",
       "      <th>TotalCharges</th>\n",
       "      <th>Churn</th>\n",
       "    </tr>\n",
       "  </thead>\n",
       "  <tbody>\n",
       "    <tr>\n",
       "      <th>0</th>\n",
       "      <td>5600-PDUJF</td>\n",
       "      <td>Male</td>\n",
       "      <td>0</td>\n",
       "      <td>No</td>\n",
       "      <td>No</td>\n",
       "      <td>6</td>\n",
       "      <td>Yes</td>\n",
       "      <td>No</td>\n",
       "      <td>DSL</td>\n",
       "      <td>No</td>\n",
       "      <td>...</td>\n",
       "      <td>No</td>\n",
       "      <td>Yes</td>\n",
       "      <td>No</td>\n",
       "      <td>No</td>\n",
       "      <td>Month-to-month</td>\n",
       "      <td>Yes</td>\n",
       "      <td>Credit card (automatic)</td>\n",
       "      <td>49.50</td>\n",
       "      <td>312.7</td>\n",
       "      <td>No</td>\n",
       "    </tr>\n",
       "    <tr>\n",
       "      <th>1</th>\n",
       "      <td>8292-TYSPY</td>\n",
       "      <td>Male</td>\n",
       "      <td>0</td>\n",
       "      <td>No</td>\n",
       "      <td>No</td>\n",
       "      <td>19</td>\n",
       "      <td>Yes</td>\n",
       "      <td>No</td>\n",
       "      <td>DSL</td>\n",
       "      <td>No</td>\n",
       "      <td>...</td>\n",
       "      <td>Yes</td>\n",
       "      <td>Yes</td>\n",
       "      <td>No</td>\n",
       "      <td>No</td>\n",
       "      <td>Month-to-month</td>\n",
       "      <td>Yes</td>\n",
       "      <td>Credit card (automatic)</td>\n",
       "      <td>55.00</td>\n",
       "      <td>1046.5</td>\n",
       "      <td>Yes</td>\n",
       "    </tr>\n",
       "    <tr>\n",
       "      <th>2</th>\n",
       "      <td>0567-XRHCU</td>\n",
       "      <td>Female</td>\n",
       "      <td>0</td>\n",
       "      <td>Yes</td>\n",
       "      <td>Yes</td>\n",
       "      <td>69</td>\n",
       "      <td>No</td>\n",
       "      <td>No phone service</td>\n",
       "      <td>DSL</td>\n",
       "      <td>Yes</td>\n",
       "      <td>...</td>\n",
       "      <td>Yes</td>\n",
       "      <td>No</td>\n",
       "      <td>No</td>\n",
       "      <td>Yes</td>\n",
       "      <td>Two year</td>\n",
       "      <td>Yes</td>\n",
       "      <td>Credit card (automatic)</td>\n",
       "      <td>43.95</td>\n",
       "      <td>2960.1</td>\n",
       "      <td>No</td>\n",
       "    </tr>\n",
       "    <tr>\n",
       "      <th>3</th>\n",
       "      <td>1867-BDVFH</td>\n",
       "      <td>Male</td>\n",
       "      <td>0</td>\n",
       "      <td>Yes</td>\n",
       "      <td>Yes</td>\n",
       "      <td>11</td>\n",
       "      <td>Yes</td>\n",
       "      <td>Yes</td>\n",
       "      <td>Fiber optic</td>\n",
       "      <td>No</td>\n",
       "      <td>...</td>\n",
       "      <td>No</td>\n",
       "      <td>No</td>\n",
       "      <td>No</td>\n",
       "      <td>No</td>\n",
       "      <td>Month-to-month</td>\n",
       "      <td>Yes</td>\n",
       "      <td>Electronic check</td>\n",
       "      <td>74.35</td>\n",
       "      <td>834.2</td>\n",
       "      <td>Yes</td>\n",
       "    </tr>\n",
       "    <tr>\n",
       "      <th>4</th>\n",
       "      <td>2067-QYTCF</td>\n",
       "      <td>Female</td>\n",
       "      <td>0</td>\n",
       "      <td>Yes</td>\n",
       "      <td>No</td>\n",
       "      <td>64</td>\n",
       "      <td>Yes</td>\n",
       "      <td>Yes</td>\n",
       "      <td>Fiber optic</td>\n",
       "      <td>No</td>\n",
       "      <td>...</td>\n",
       "      <td>Yes</td>\n",
       "      <td>Yes</td>\n",
       "      <td>Yes</td>\n",
       "      <td>Yes</td>\n",
       "      <td>Month-to-month</td>\n",
       "      <td>Yes</td>\n",
       "      <td>Electronic check</td>\n",
       "      <td>111.15</td>\n",
       "      <td>6953.4</td>\n",
       "      <td>No</td>\n",
       "    </tr>\n",
       "    <tr>\n",
       "      <th>...</th>\n",
       "      <td>...</td>\n",
       "      <td>...</td>\n",
       "      <td>...</td>\n",
       "      <td>...</td>\n",
       "      <td>...</td>\n",
       "      <td>...</td>\n",
       "      <td>...</td>\n",
       "      <td>...</td>\n",
       "      <td>...</td>\n",
       "      <td>...</td>\n",
       "      <td>...</td>\n",
       "      <td>...</td>\n",
       "      <td>...</td>\n",
       "      <td>...</td>\n",
       "      <td>...</td>\n",
       "      <td>...</td>\n",
       "      <td>...</td>\n",
       "      <td>...</td>\n",
       "      <td>...</td>\n",
       "      <td>...</td>\n",
       "      <td>...</td>\n",
       "    </tr>\n",
       "    <tr>\n",
       "      <th>2038</th>\n",
       "      <td>6840-RESVB</td>\n",
       "      <td>Male</td>\n",
       "      <td>0</td>\n",
       "      <td>Yes</td>\n",
       "      <td>Yes</td>\n",
       "      <td>24</td>\n",
       "      <td>Yes</td>\n",
       "      <td>Yes</td>\n",
       "      <td>DSL</td>\n",
       "      <td>Yes</td>\n",
       "      <td>...</td>\n",
       "      <td>Yes</td>\n",
       "      <td>Yes</td>\n",
       "      <td>Yes</td>\n",
       "      <td>Yes</td>\n",
       "      <td>One year</td>\n",
       "      <td>Yes</td>\n",
       "      <td>Mailed check</td>\n",
       "      <td>84.80</td>\n",
       "      <td>1990.5</td>\n",
       "      <td>No</td>\n",
       "    </tr>\n",
       "    <tr>\n",
       "      <th>2039</th>\n",
       "      <td>2234-XADUH</td>\n",
       "      <td>Female</td>\n",
       "      <td>0</td>\n",
       "      <td>Yes</td>\n",
       "      <td>Yes</td>\n",
       "      <td>72</td>\n",
       "      <td>Yes</td>\n",
       "      <td>Yes</td>\n",
       "      <td>Fiber optic</td>\n",
       "      <td>No</td>\n",
       "      <td>...</td>\n",
       "      <td>Yes</td>\n",
       "      <td>No</td>\n",
       "      <td>Yes</td>\n",
       "      <td>Yes</td>\n",
       "      <td>One year</td>\n",
       "      <td>Yes</td>\n",
       "      <td>Credit card (automatic)</td>\n",
       "      <td>103.20</td>\n",
       "      <td>7362.9</td>\n",
       "      <td>No</td>\n",
       "    </tr>\n",
       "    <tr>\n",
       "      <th>2040</th>\n",
       "      <td>4801-JZAZL</td>\n",
       "      <td>Female</td>\n",
       "      <td>0</td>\n",
       "      <td>Yes</td>\n",
       "      <td>Yes</td>\n",
       "      <td>11</td>\n",
       "      <td>No</td>\n",
       "      <td>No phone service</td>\n",
       "      <td>DSL</td>\n",
       "      <td>Yes</td>\n",
       "      <td>...</td>\n",
       "      <td>No</td>\n",
       "      <td>No</td>\n",
       "      <td>No</td>\n",
       "      <td>No</td>\n",
       "      <td>Month-to-month</td>\n",
       "      <td>Yes</td>\n",
       "      <td>Electronic check</td>\n",
       "      <td>29.60</td>\n",
       "      <td>346.45</td>\n",
       "      <td>No</td>\n",
       "    </tr>\n",
       "    <tr>\n",
       "      <th>2041</th>\n",
       "      <td>8361-LTMKD</td>\n",
       "      <td>Male</td>\n",
       "      <td>1</td>\n",
       "      <td>Yes</td>\n",
       "      <td>No</td>\n",
       "      <td>4</td>\n",
       "      <td>Yes</td>\n",
       "      <td>Yes</td>\n",
       "      <td>Fiber optic</td>\n",
       "      <td>No</td>\n",
       "      <td>...</td>\n",
       "      <td>No</td>\n",
       "      <td>No</td>\n",
       "      <td>No</td>\n",
       "      <td>No</td>\n",
       "      <td>Month-to-month</td>\n",
       "      <td>Yes</td>\n",
       "      <td>Mailed check</td>\n",
       "      <td>74.40</td>\n",
       "      <td>306.6</td>\n",
       "      <td>Yes</td>\n",
       "    </tr>\n",
       "    <tr>\n",
       "      <th>2042</th>\n",
       "      <td>3186-AJIEK</td>\n",
       "      <td>Male</td>\n",
       "      <td>0</td>\n",
       "      <td>No</td>\n",
       "      <td>No</td>\n",
       "      <td>66</td>\n",
       "      <td>Yes</td>\n",
       "      <td>No</td>\n",
       "      <td>Fiber optic</td>\n",
       "      <td>Yes</td>\n",
       "      <td>...</td>\n",
       "      <td>Yes</td>\n",
       "      <td>Yes</td>\n",
       "      <td>Yes</td>\n",
       "      <td>Yes</td>\n",
       "      <td>Two year</td>\n",
       "      <td>Yes</td>\n",
       "      <td>Bank transfer (automatic)</td>\n",
       "      <td>105.65</td>\n",
       "      <td>6844.5</td>\n",
       "      <td>No</td>\n",
       "    </tr>\n",
       "  </tbody>\n",
       "</table>\n",
       "<p>2043 rows × 21 columns</p>\n",
       "</div>"
      ],
      "text/plain": [
       "      customerID  gender  SeniorCitizen Partner Dependents  tenure  \\\n",
       "0     5600-PDUJF    Male              0      No         No       6   \n",
       "1     8292-TYSPY    Male              0      No         No      19   \n",
       "2     0567-XRHCU  Female              0     Yes        Yes      69   \n",
       "3     1867-BDVFH    Male              0     Yes        Yes      11   \n",
       "4     2067-QYTCF  Female              0     Yes         No      64   \n",
       "...          ...     ...            ...     ...        ...     ...   \n",
       "2038  6840-RESVB    Male              0     Yes        Yes      24   \n",
       "2039  2234-XADUH  Female              0     Yes        Yes      72   \n",
       "2040  4801-JZAZL  Female              0     Yes        Yes      11   \n",
       "2041  8361-LTMKD    Male              1     Yes         No       4   \n",
       "2042  3186-AJIEK    Male              0      No         No      66   \n",
       "\n",
       "     PhoneService     MultipleLines InternetService OnlineSecurity  ...  \\\n",
       "0             Yes                No             DSL             No  ...   \n",
       "1             Yes                No             DSL             No  ...   \n",
       "2              No  No phone service             DSL            Yes  ...   \n",
       "3             Yes               Yes     Fiber optic             No  ...   \n",
       "4             Yes               Yes     Fiber optic             No  ...   \n",
       "...           ...               ...             ...            ...  ...   \n",
       "2038          Yes               Yes             DSL            Yes  ...   \n",
       "2039          Yes               Yes     Fiber optic             No  ...   \n",
       "2040           No  No phone service             DSL            Yes  ...   \n",
       "2041          Yes               Yes     Fiber optic             No  ...   \n",
       "2042          Yes                No     Fiber optic            Yes  ...   \n",
       "\n",
       "     DeviceProtection TechSupport StreamingTV StreamingMovies        Contract  \\\n",
       "0                  No         Yes          No              No  Month-to-month   \n",
       "1                 Yes         Yes          No              No  Month-to-month   \n",
       "2                 Yes          No          No             Yes        Two year   \n",
       "3                  No          No          No              No  Month-to-month   \n",
       "4                 Yes         Yes         Yes             Yes  Month-to-month   \n",
       "...               ...         ...         ...             ...             ...   \n",
       "2038              Yes         Yes         Yes             Yes        One year   \n",
       "2039              Yes          No         Yes             Yes        One year   \n",
       "2040               No          No          No              No  Month-to-month   \n",
       "2041               No          No          No              No  Month-to-month   \n",
       "2042              Yes         Yes         Yes             Yes        Two year   \n",
       "\n",
       "     PaperlessBilling              PaymentMethod MonthlyCharges  TotalCharges  \\\n",
       "0                 Yes    Credit card (automatic)          49.50         312.7   \n",
       "1                 Yes    Credit card (automatic)          55.00        1046.5   \n",
       "2                 Yes    Credit card (automatic)          43.95        2960.1   \n",
       "3                 Yes           Electronic check          74.35         834.2   \n",
       "4                 Yes           Electronic check         111.15        6953.4   \n",
       "...               ...                        ...            ...           ...   \n",
       "2038              Yes               Mailed check          84.80        1990.5   \n",
       "2039              Yes    Credit card (automatic)         103.20        7362.9   \n",
       "2040              Yes           Electronic check          29.60        346.45   \n",
       "2041              Yes               Mailed check          74.40         306.6   \n",
       "2042              Yes  Bank transfer (automatic)         105.65        6844.5   \n",
       "\n",
       "     Churn  \n",
       "0       No  \n",
       "1      Yes  \n",
       "2       No  \n",
       "3      Yes  \n",
       "4       No  \n",
       "...    ...  \n",
       "2038    No  \n",
       "2039    No  \n",
       "2040    No  \n",
       "2041   Yes  \n",
       "2042    No  \n",
       "\n",
       "[2043 rows x 21 columns]"
      ]
     },
     "execution_count": 9,
     "metadata": {},
     "output_type": "execute_result"
    }
   ],
   "source": [
    "data2 = pd.read_csv('LP2_Telco-churn-last-2000.csv')\n",
    "data2"
   ]
  },
  {
   "cell_type": "code",
   "execution_count": 10,
   "id": "44f631db",
   "metadata": {},
   "outputs": [],
   "source": [
    "# concatenate \n",
    "df = pd.concat([data, data2])\n",
    "df.to_csv('LP2_Telco-churn-complete1.csv')"
   ]
  },
  {
   "cell_type": "code",
   "execution_count": null,
   "id": "921886be",
   "metadata": {},
   "outputs": [],
   "source": []
  },
  {
   "cell_type": "code",
   "execution_count": 11,
   "id": "7a404f3c",
   "metadata": {},
   "outputs": [
    {
     "data": {
      "text/html": [
       "<div>\n",
       "<style scoped>\n",
       "    .dataframe tbody tr th:only-of-type {\n",
       "        vertical-align: middle;\n",
       "    }\n",
       "\n",
       "    .dataframe tbody tr th {\n",
       "        vertical-align: top;\n",
       "    }\n",
       "\n",
       "    .dataframe thead th {\n",
       "        text-align: right;\n",
       "    }\n",
       "</style>\n",
       "<table border=\"1\" class=\"dataframe\">\n",
       "  <thead>\n",
       "    <tr style=\"text-align: right;\">\n",
       "      <th></th>\n",
       "      <th>Unnamed: 0</th>\n",
       "      <th>customerID</th>\n",
       "      <th>gender</th>\n",
       "      <th>SeniorCitizen</th>\n",
       "      <th>Partner</th>\n",
       "      <th>Dependents</th>\n",
       "      <th>tenure</th>\n",
       "      <th>PhoneService</th>\n",
       "      <th>MultipleLines</th>\n",
       "      <th>InternetService</th>\n",
       "      <th>...</th>\n",
       "      <th>DeviceProtection</th>\n",
       "      <th>TechSupport</th>\n",
       "      <th>StreamingTV</th>\n",
       "      <th>StreamingMovies</th>\n",
       "      <th>Contract</th>\n",
       "      <th>PaperlessBilling</th>\n",
       "      <th>PaymentMethod</th>\n",
       "      <th>MonthlyCharges</th>\n",
       "      <th>TotalCharges</th>\n",
       "      <th>Churn</th>\n",
       "    </tr>\n",
       "  </thead>\n",
       "  <tbody>\n",
       "    <tr>\n",
       "      <th>0</th>\n",
       "      <td>0</td>\n",
       "      <td>7590-VHVEG</td>\n",
       "      <td>Female</td>\n",
       "      <td>0</td>\n",
       "      <td>True</td>\n",
       "      <td>False</td>\n",
       "      <td>1</td>\n",
       "      <td>False</td>\n",
       "      <td>NaN</td>\n",
       "      <td>DSL</td>\n",
       "      <td>...</td>\n",
       "      <td>False</td>\n",
       "      <td>False</td>\n",
       "      <td>False</td>\n",
       "      <td>False</td>\n",
       "      <td>Month-to-month</td>\n",
       "      <td>True</td>\n",
       "      <td>Electronic check</td>\n",
       "      <td>29.850000</td>\n",
       "      <td>29.850000381469727</td>\n",
       "      <td>False</td>\n",
       "    </tr>\n",
       "    <tr>\n",
       "      <th>1</th>\n",
       "      <td>1</td>\n",
       "      <td>5575-GNVDE</td>\n",
       "      <td>Male</td>\n",
       "      <td>0</td>\n",
       "      <td>False</td>\n",
       "      <td>False</td>\n",
       "      <td>34</td>\n",
       "      <td>True</td>\n",
       "      <td>False</td>\n",
       "      <td>DSL</td>\n",
       "      <td>...</td>\n",
       "      <td>True</td>\n",
       "      <td>False</td>\n",
       "      <td>False</td>\n",
       "      <td>False</td>\n",
       "      <td>One year</td>\n",
       "      <td>False</td>\n",
       "      <td>Mailed check</td>\n",
       "      <td>56.950001</td>\n",
       "      <td>1889.5</td>\n",
       "      <td>False</td>\n",
       "    </tr>\n",
       "    <tr>\n",
       "      <th>2</th>\n",
       "      <td>2</td>\n",
       "      <td>3668-QPYBK</td>\n",
       "      <td>Male</td>\n",
       "      <td>0</td>\n",
       "      <td>False</td>\n",
       "      <td>False</td>\n",
       "      <td>2</td>\n",
       "      <td>True</td>\n",
       "      <td>False</td>\n",
       "      <td>DSL</td>\n",
       "      <td>...</td>\n",
       "      <td>False</td>\n",
       "      <td>False</td>\n",
       "      <td>False</td>\n",
       "      <td>False</td>\n",
       "      <td>Month-to-month</td>\n",
       "      <td>True</td>\n",
       "      <td>Mailed check</td>\n",
       "      <td>53.849998</td>\n",
       "      <td>108.1500015258789</td>\n",
       "      <td>True</td>\n",
       "    </tr>\n",
       "    <tr>\n",
       "      <th>3</th>\n",
       "      <td>3</td>\n",
       "      <td>7795-CFOCW</td>\n",
       "      <td>Male</td>\n",
       "      <td>0</td>\n",
       "      <td>False</td>\n",
       "      <td>False</td>\n",
       "      <td>45</td>\n",
       "      <td>False</td>\n",
       "      <td>NaN</td>\n",
       "      <td>DSL</td>\n",
       "      <td>...</td>\n",
       "      <td>True</td>\n",
       "      <td>True</td>\n",
       "      <td>False</td>\n",
       "      <td>False</td>\n",
       "      <td>One year</td>\n",
       "      <td>False</td>\n",
       "      <td>Bank transfer (automatic)</td>\n",
       "      <td>42.299999</td>\n",
       "      <td>1840.75</td>\n",
       "      <td>False</td>\n",
       "    </tr>\n",
       "    <tr>\n",
       "      <th>4</th>\n",
       "      <td>4</td>\n",
       "      <td>9237-HQITU</td>\n",
       "      <td>Female</td>\n",
       "      <td>0</td>\n",
       "      <td>False</td>\n",
       "      <td>False</td>\n",
       "      <td>2</td>\n",
       "      <td>True</td>\n",
       "      <td>False</td>\n",
       "      <td>Fiber optic</td>\n",
       "      <td>...</td>\n",
       "      <td>False</td>\n",
       "      <td>False</td>\n",
       "      <td>False</td>\n",
       "      <td>False</td>\n",
       "      <td>Month-to-month</td>\n",
       "      <td>True</td>\n",
       "      <td>Electronic check</td>\n",
       "      <td>70.699997</td>\n",
       "      <td>151.64999389648438</td>\n",
       "      <td>True</td>\n",
       "    </tr>\n",
       "  </tbody>\n",
       "</table>\n",
       "<p>5 rows × 22 columns</p>\n",
       "</div>"
      ],
      "text/plain": [
       "   Unnamed: 0  customerID  gender  SeniorCitizen Partner Dependents  tenure  \\\n",
       "0           0  7590-VHVEG  Female              0    True      False       1   \n",
       "1           1  5575-GNVDE    Male              0   False      False      34   \n",
       "2           2  3668-QPYBK    Male              0   False      False       2   \n",
       "3           3  7795-CFOCW    Male              0   False      False      45   \n",
       "4           4  9237-HQITU  Female              0   False      False       2   \n",
       "\n",
       "  PhoneService MultipleLines InternetService  ... DeviceProtection  \\\n",
       "0        False           NaN             DSL  ...            False   \n",
       "1         True         False             DSL  ...             True   \n",
       "2         True         False             DSL  ...            False   \n",
       "3        False           NaN             DSL  ...             True   \n",
       "4         True         False     Fiber optic  ...            False   \n",
       "\n",
       "  TechSupport StreamingTV StreamingMovies        Contract PaperlessBilling  \\\n",
       "0       False       False           False  Month-to-month             True   \n",
       "1       False       False           False        One year            False   \n",
       "2       False       False           False  Month-to-month             True   \n",
       "3        True       False           False        One year            False   \n",
       "4       False       False           False  Month-to-month             True   \n",
       "\n",
       "               PaymentMethod MonthlyCharges        TotalCharges  Churn  \n",
       "0           Electronic check      29.850000  29.850000381469727  False  \n",
       "1               Mailed check      56.950001              1889.5  False  \n",
       "2               Mailed check      53.849998   108.1500015258789   True  \n",
       "3  Bank transfer (automatic)      42.299999             1840.75  False  \n",
       "4           Electronic check      70.699997  151.64999389648438   True  \n",
       "\n",
       "[5 rows x 22 columns]"
      ]
     },
     "execution_count": 11,
     "metadata": {},
     "output_type": "execute_result"
    }
   ],
   "source": [
    "df=pd.read_csv('LP2_Telco-churn-complete1.csv')\n",
    "df.head()"
   ]
  },
  {
   "cell_type": "markdown",
   "id": "aa2d7bad",
   "metadata": {},
   "source": [
    "## Exploratory Data Analysis(EDA)"
   ]
  },
  {
   "cell_type": "code",
   "execution_count": 12,
   "id": "453857bf",
   "metadata": {},
   "outputs": [
    {
     "data": {
      "text/plain": [
       "(5043, 22)"
      ]
     },
     "execution_count": 12,
     "metadata": {},
     "output_type": "execute_result"
    }
   ],
   "source": [
    "df.shape"
   ]
  },
  {
   "cell_type": "code",
   "execution_count": 13,
   "id": "2b5c56b1",
   "metadata": {},
   "outputs": [
    {
     "data": {
      "text/html": [
       "<div>\n",
       "<style scoped>\n",
       "    .dataframe tbody tr th:only-of-type {\n",
       "        vertical-align: middle;\n",
       "    }\n",
       "\n",
       "    .dataframe tbody tr th {\n",
       "        vertical-align: top;\n",
       "    }\n",
       "\n",
       "    .dataframe thead th {\n",
       "        text-align: right;\n",
       "    }\n",
       "</style>\n",
       "<table border=\"1\" class=\"dataframe\">\n",
       "  <thead>\n",
       "    <tr style=\"text-align: right;\">\n",
       "      <th></th>\n",
       "      <th>Unnamed: 0</th>\n",
       "      <th>customerID</th>\n",
       "      <th>gender</th>\n",
       "      <th>SeniorCitizen</th>\n",
       "      <th>Partner</th>\n",
       "      <th>Dependents</th>\n",
       "      <th>tenure</th>\n",
       "      <th>PhoneService</th>\n",
       "      <th>MultipleLines</th>\n",
       "      <th>InternetService</th>\n",
       "      <th>...</th>\n",
       "      <th>DeviceProtection</th>\n",
       "      <th>TechSupport</th>\n",
       "      <th>StreamingTV</th>\n",
       "      <th>StreamingMovies</th>\n",
       "      <th>Contract</th>\n",
       "      <th>PaperlessBilling</th>\n",
       "      <th>PaymentMethod</th>\n",
       "      <th>MonthlyCharges</th>\n",
       "      <th>TotalCharges</th>\n",
       "      <th>Churn</th>\n",
       "    </tr>\n",
       "  </thead>\n",
       "  <tbody>\n",
       "    <tr>\n",
       "      <th>3971</th>\n",
       "      <td>971</td>\n",
       "      <td>9800-OUIGR</td>\n",
       "      <td>Male</td>\n",
       "      <td>0</td>\n",
       "      <td>Yes</td>\n",
       "      <td>Yes</td>\n",
       "      <td>66</td>\n",
       "      <td>Yes</td>\n",
       "      <td>No</td>\n",
       "      <td>No</td>\n",
       "      <td>...</td>\n",
       "      <td>No internet service</td>\n",
       "      <td>No internet service</td>\n",
       "      <td>No internet service</td>\n",
       "      <td>No internet service</td>\n",
       "      <td>Two year</td>\n",
       "      <td>No</td>\n",
       "      <td>Credit card (automatic)</td>\n",
       "      <td>20.000000</td>\n",
       "      <td>1374.2</td>\n",
       "      <td>No</td>\n",
       "    </tr>\n",
       "    <tr>\n",
       "      <th>3991</th>\n",
       "      <td>991</td>\n",
       "      <td>8063-RJYNF</td>\n",
       "      <td>Male</td>\n",
       "      <td>0</td>\n",
       "      <td>No</td>\n",
       "      <td>No</td>\n",
       "      <td>16</td>\n",
       "      <td>Yes</td>\n",
       "      <td>No</td>\n",
       "      <td>Fiber optic</td>\n",
       "      <td>...</td>\n",
       "      <td>No</td>\n",
       "      <td>No</td>\n",
       "      <td>Yes</td>\n",
       "      <td>Yes</td>\n",
       "      <td>Month-to-month</td>\n",
       "      <td>Yes</td>\n",
       "      <td>Electronic check</td>\n",
       "      <td>94.250000</td>\n",
       "      <td>1483.25</td>\n",
       "      <td>Yes</td>\n",
       "    </tr>\n",
       "    <tr>\n",
       "      <th>1742</th>\n",
       "      <td>1742</td>\n",
       "      <td>5318-IXUZF</td>\n",
       "      <td>Female</td>\n",
       "      <td>0</td>\n",
       "      <td>False</td>\n",
       "      <td>False</td>\n",
       "      <td>2</td>\n",
       "      <td>True</td>\n",
       "      <td>False</td>\n",
       "      <td>Fiber optic</td>\n",
       "      <td>...</td>\n",
       "      <td>False</td>\n",
       "      <td>False</td>\n",
       "      <td>True</td>\n",
       "      <td>False</td>\n",
       "      <td>Month-to-month</td>\n",
       "      <td>True</td>\n",
       "      <td>Bank transfer (automatic)</td>\n",
       "      <td>87.150002</td>\n",
       "      <td>183.75</td>\n",
       "      <td>True</td>\n",
       "    </tr>\n",
       "    <tr>\n",
       "      <th>2685</th>\n",
       "      <td>2685</td>\n",
       "      <td>5781-BKHOP</td>\n",
       "      <td>Female</td>\n",
       "      <td>0</td>\n",
       "      <td>True</td>\n",
       "      <td>False</td>\n",
       "      <td>72</td>\n",
       "      <td>True</td>\n",
       "      <td>True</td>\n",
       "      <td>Fiber optic</td>\n",
       "      <td>...</td>\n",
       "      <td>True</td>\n",
       "      <td>False</td>\n",
       "      <td>True</td>\n",
       "      <td>False</td>\n",
       "      <td>Two year</td>\n",
       "      <td>False</td>\n",
       "      <td>Bank transfer (automatic)</td>\n",
       "      <td>100.650002</td>\n",
       "      <td>7334.0498046875</td>\n",
       "      <td>False</td>\n",
       "    </tr>\n",
       "    <tr>\n",
       "      <th>1615</th>\n",
       "      <td>1615</td>\n",
       "      <td>2812-REYAT</td>\n",
       "      <td>Female</td>\n",
       "      <td>0</td>\n",
       "      <td>True</td>\n",
       "      <td>False</td>\n",
       "      <td>49</td>\n",
       "      <td>True</td>\n",
       "      <td>False</td>\n",
       "      <td>No</td>\n",
       "      <td>...</td>\n",
       "      <td>NaN</td>\n",
       "      <td>NaN</td>\n",
       "      <td>NaN</td>\n",
       "      <td>NaN</td>\n",
       "      <td>One year</td>\n",
       "      <td>True</td>\n",
       "      <td>Bank transfer (automatic)</td>\n",
       "      <td>20.049999</td>\n",
       "      <td>923.0999755859375</td>\n",
       "      <td>False</td>\n",
       "    </tr>\n",
       "    <tr>\n",
       "      <th>3083</th>\n",
       "      <td>83</td>\n",
       "      <td>7136-IHZJA</td>\n",
       "      <td>Female</td>\n",
       "      <td>0</td>\n",
       "      <td>Yes</td>\n",
       "      <td>Yes</td>\n",
       "      <td>40</td>\n",
       "      <td>Yes</td>\n",
       "      <td>No</td>\n",
       "      <td>DSL</td>\n",
       "      <td>...</td>\n",
       "      <td>No</td>\n",
       "      <td>Yes</td>\n",
       "      <td>No</td>\n",
       "      <td>Yes</td>\n",
       "      <td>Month-to-month</td>\n",
       "      <td>Yes</td>\n",
       "      <td>Mailed check</td>\n",
       "      <td>71.350000</td>\n",
       "      <td>2847.2</td>\n",
       "      <td>No</td>\n",
       "    </tr>\n",
       "    <tr>\n",
       "      <th>157</th>\n",
       "      <td>157</td>\n",
       "      <td>2749-CTKAJ</td>\n",
       "      <td>Male</td>\n",
       "      <td>0</td>\n",
       "      <td>True</td>\n",
       "      <td>True</td>\n",
       "      <td>22</td>\n",
       "      <td>True</td>\n",
       "      <td>False</td>\n",
       "      <td>No</td>\n",
       "      <td>...</td>\n",
       "      <td>NaN</td>\n",
       "      <td>NaN</td>\n",
       "      <td>NaN</td>\n",
       "      <td>NaN</td>\n",
       "      <td>One year</td>\n",
       "      <td>False</td>\n",
       "      <td>Mailed check</td>\n",
       "      <td>20.150000</td>\n",
       "      <td>419.8999938964844</td>\n",
       "      <td>False</td>\n",
       "    </tr>\n",
       "    <tr>\n",
       "      <th>3475</th>\n",
       "      <td>475</td>\n",
       "      <td>1114-CENIM</td>\n",
       "      <td>Male</td>\n",
       "      <td>0</td>\n",
       "      <td>No</td>\n",
       "      <td>Yes</td>\n",
       "      <td>54</td>\n",
       "      <td>Yes</td>\n",
       "      <td>Yes</td>\n",
       "      <td>DSL</td>\n",
       "      <td>...</td>\n",
       "      <td>No</td>\n",
       "      <td>No</td>\n",
       "      <td>No</td>\n",
       "      <td>No</td>\n",
       "      <td>Month-to-month</td>\n",
       "      <td>Yes</td>\n",
       "      <td>Credit card (automatic)</td>\n",
       "      <td>55.000000</td>\n",
       "      <td>3092.65</td>\n",
       "      <td>Yes</td>\n",
       "    </tr>\n",
       "    <tr>\n",
       "      <th>891</th>\n",
       "      <td>891</td>\n",
       "      <td>3804-RVTGV</td>\n",
       "      <td>Male</td>\n",
       "      <td>0</td>\n",
       "      <td>True</td>\n",
       "      <td>True</td>\n",
       "      <td>50</td>\n",
       "      <td>True</td>\n",
       "      <td>True</td>\n",
       "      <td>Fiber optic</td>\n",
       "      <td>...</td>\n",
       "      <td>True</td>\n",
       "      <td>False</td>\n",
       "      <td>True</td>\n",
       "      <td>True</td>\n",
       "      <td>Month-to-month</td>\n",
       "      <td>True</td>\n",
       "      <td>Bank transfer (automatic)</td>\n",
       "      <td>103.849998</td>\n",
       "      <td>5017.89990234375</td>\n",
       "      <td>True</td>\n",
       "    </tr>\n",
       "    <tr>\n",
       "      <th>1269</th>\n",
       "      <td>1269</td>\n",
       "      <td>8480-PPONV</td>\n",
       "      <td>Male</td>\n",
       "      <td>0</td>\n",
       "      <td>True</td>\n",
       "      <td>True</td>\n",
       "      <td>62</td>\n",
       "      <td>True</td>\n",
       "      <td>True</td>\n",
       "      <td>Fiber optic</td>\n",
       "      <td>...</td>\n",
       "      <td>True</td>\n",
       "      <td>True</td>\n",
       "      <td>True</td>\n",
       "      <td>True</td>\n",
       "      <td>Two year</td>\n",
       "      <td>False</td>\n",
       "      <td>Bank transfer (automatic)</td>\n",
       "      <td>115.550003</td>\n",
       "      <td>7159.0498046875</td>\n",
       "      <td>False</td>\n",
       "    </tr>\n",
       "    <tr>\n",
       "      <th>2879</th>\n",
       "      <td>2879</td>\n",
       "      <td>4550-VBOFE</td>\n",
       "      <td>Male</td>\n",
       "      <td>1</td>\n",
       "      <td>True</td>\n",
       "      <td>False</td>\n",
       "      <td>70</td>\n",
       "      <td>True</td>\n",
       "      <td>True</td>\n",
       "      <td>Fiber optic</td>\n",
       "      <td>...</td>\n",
       "      <td>True</td>\n",
       "      <td>False</td>\n",
       "      <td>True</td>\n",
       "      <td>True</td>\n",
       "      <td>Month-to-month</td>\n",
       "      <td>True</td>\n",
       "      <td>Electronic check</td>\n",
       "      <td>102.949997</td>\n",
       "      <td>7101.5</td>\n",
       "      <td>True</td>\n",
       "    </tr>\n",
       "    <tr>\n",
       "      <th>1155</th>\n",
       "      <td>1155</td>\n",
       "      <td>6870-ZWMNX</td>\n",
       "      <td>Male</td>\n",
       "      <td>0</td>\n",
       "      <td>True</td>\n",
       "      <td>False</td>\n",
       "      <td>70</td>\n",
       "      <td>True</td>\n",
       "      <td>True</td>\n",
       "      <td>DSL</td>\n",
       "      <td>...</td>\n",
       "      <td>True</td>\n",
       "      <td>True</td>\n",
       "      <td>True</td>\n",
       "      <td>False</td>\n",
       "      <td>Two year</td>\n",
       "      <td>False</td>\n",
       "      <td>Credit card (automatic)</td>\n",
       "      <td>76.099998</td>\n",
       "      <td>5264.25</td>\n",
       "      <td>False</td>\n",
       "    </tr>\n",
       "    <tr>\n",
       "      <th>1950</th>\n",
       "      <td>1950</td>\n",
       "      <td>9614-RMGHA</td>\n",
       "      <td>Male</td>\n",
       "      <td>0</td>\n",
       "      <td>True</td>\n",
       "      <td>False</td>\n",
       "      <td>65</td>\n",
       "      <td>True</td>\n",
       "      <td>True</td>\n",
       "      <td>Fiber optic</td>\n",
       "      <td>...</td>\n",
       "      <td>False</td>\n",
       "      <td>False</td>\n",
       "      <td>True</td>\n",
       "      <td>False</td>\n",
       "      <td>Month-to-month</td>\n",
       "      <td>True</td>\n",
       "      <td>Bank transfer (automatic)</td>\n",
       "      <td>91.849998</td>\n",
       "      <td>5940.85009765625</td>\n",
       "      <td>True</td>\n",
       "    </tr>\n",
       "    <tr>\n",
       "      <th>3266</th>\n",
       "      <td>266</td>\n",
       "      <td>2027-DNKIV</td>\n",
       "      <td>Male</td>\n",
       "      <td>0</td>\n",
       "      <td>Yes</td>\n",
       "      <td>Yes</td>\n",
       "      <td>37</td>\n",
       "      <td>Yes</td>\n",
       "      <td>No</td>\n",
       "      <td>DSL</td>\n",
       "      <td>...</td>\n",
       "      <td>Yes</td>\n",
       "      <td>Yes</td>\n",
       "      <td>No</td>\n",
       "      <td>No</td>\n",
       "      <td>One year</td>\n",
       "      <td>Yes</td>\n",
       "      <td>Mailed check</td>\n",
       "      <td>58.750000</td>\n",
       "      <td>2203.1</td>\n",
       "      <td>No</td>\n",
       "    </tr>\n",
       "    <tr>\n",
       "      <th>3128</th>\n",
       "      <td>128</td>\n",
       "      <td>4128-ETESU</td>\n",
       "      <td>Female</td>\n",
       "      <td>1</td>\n",
       "      <td>Yes</td>\n",
       "      <td>No</td>\n",
       "      <td>47</td>\n",
       "      <td>Yes</td>\n",
       "      <td>Yes</td>\n",
       "      <td>Fiber optic</td>\n",
       "      <td>...</td>\n",
       "      <td>Yes</td>\n",
       "      <td>No</td>\n",
       "      <td>Yes</td>\n",
       "      <td>Yes</td>\n",
       "      <td>Month-to-month</td>\n",
       "      <td>No</td>\n",
       "      <td>Electronic check</td>\n",
       "      <td>99.700000</td>\n",
       "      <td>4747.2</td>\n",
       "      <td>No</td>\n",
       "    </tr>\n",
       "  </tbody>\n",
       "</table>\n",
       "<p>15 rows × 22 columns</p>\n",
       "</div>"
      ],
      "text/plain": [
       "      Unnamed: 0  customerID  gender  SeniorCitizen Partner Dependents  \\\n",
       "3971         971  9800-OUIGR    Male              0     Yes        Yes   \n",
       "3991         991  8063-RJYNF    Male              0      No         No   \n",
       "1742        1742  5318-IXUZF  Female              0   False      False   \n",
       "2685        2685  5781-BKHOP  Female              0    True      False   \n",
       "1615        1615  2812-REYAT  Female              0    True      False   \n",
       "3083          83  7136-IHZJA  Female              0     Yes        Yes   \n",
       "157          157  2749-CTKAJ    Male              0    True       True   \n",
       "3475         475  1114-CENIM    Male              0      No        Yes   \n",
       "891          891  3804-RVTGV    Male              0    True       True   \n",
       "1269        1269  8480-PPONV    Male              0    True       True   \n",
       "2879        2879  4550-VBOFE    Male              1    True      False   \n",
       "1155        1155  6870-ZWMNX    Male              0    True      False   \n",
       "1950        1950  9614-RMGHA    Male              0    True      False   \n",
       "3266         266  2027-DNKIV    Male              0     Yes        Yes   \n",
       "3128         128  4128-ETESU  Female              1     Yes         No   \n",
       "\n",
       "      tenure PhoneService MultipleLines InternetService  ...  \\\n",
       "3971      66          Yes            No              No  ...   \n",
       "3991      16          Yes            No     Fiber optic  ...   \n",
       "1742       2         True         False     Fiber optic  ...   \n",
       "2685      72         True          True     Fiber optic  ...   \n",
       "1615      49         True         False              No  ...   \n",
       "3083      40          Yes            No             DSL  ...   \n",
       "157       22         True         False              No  ...   \n",
       "3475      54          Yes           Yes             DSL  ...   \n",
       "891       50         True          True     Fiber optic  ...   \n",
       "1269      62         True          True     Fiber optic  ...   \n",
       "2879      70         True          True     Fiber optic  ...   \n",
       "1155      70         True          True             DSL  ...   \n",
       "1950      65         True          True     Fiber optic  ...   \n",
       "3266      37          Yes            No             DSL  ...   \n",
       "3128      47          Yes           Yes     Fiber optic  ...   \n",
       "\n",
       "         DeviceProtection          TechSupport          StreamingTV  \\\n",
       "3971  No internet service  No internet service  No internet service   \n",
       "3991                   No                   No                  Yes   \n",
       "1742                False                False                 True   \n",
       "2685                 True                False                 True   \n",
       "1615                  NaN                  NaN                  NaN   \n",
       "3083                   No                  Yes                   No   \n",
       "157                   NaN                  NaN                  NaN   \n",
       "3475                   No                   No                   No   \n",
       "891                  True                False                 True   \n",
       "1269                 True                 True                 True   \n",
       "2879                 True                False                 True   \n",
       "1155                 True                 True                 True   \n",
       "1950                False                False                 True   \n",
       "3266                  Yes                  Yes                   No   \n",
       "3128                  Yes                   No                  Yes   \n",
       "\n",
       "          StreamingMovies        Contract PaperlessBilling  \\\n",
       "3971  No internet service        Two year               No   \n",
       "3991                  Yes  Month-to-month              Yes   \n",
       "1742                False  Month-to-month             True   \n",
       "2685                False        Two year            False   \n",
       "1615                  NaN        One year             True   \n",
       "3083                  Yes  Month-to-month              Yes   \n",
       "157                   NaN        One year            False   \n",
       "3475                   No  Month-to-month              Yes   \n",
       "891                  True  Month-to-month             True   \n",
       "1269                 True        Two year            False   \n",
       "2879                 True  Month-to-month             True   \n",
       "1155                False        Two year            False   \n",
       "1950                False  Month-to-month             True   \n",
       "3266                   No        One year              Yes   \n",
       "3128                  Yes  Month-to-month               No   \n",
       "\n",
       "                  PaymentMethod MonthlyCharges       TotalCharges  Churn  \n",
       "3971    Credit card (automatic)      20.000000             1374.2     No  \n",
       "3991           Electronic check      94.250000            1483.25    Yes  \n",
       "1742  Bank transfer (automatic)      87.150002             183.75   True  \n",
       "2685  Bank transfer (automatic)     100.650002    7334.0498046875  False  \n",
       "1615  Bank transfer (automatic)      20.049999  923.0999755859375  False  \n",
       "3083               Mailed check      71.350000             2847.2     No  \n",
       "157                Mailed check      20.150000  419.8999938964844  False  \n",
       "3475    Credit card (automatic)      55.000000            3092.65    Yes  \n",
       "891   Bank transfer (automatic)     103.849998   5017.89990234375   True  \n",
       "1269  Bank transfer (automatic)     115.550003    7159.0498046875  False  \n",
       "2879           Electronic check     102.949997             7101.5   True  \n",
       "1155    Credit card (automatic)      76.099998            5264.25  False  \n",
       "1950  Bank transfer (automatic)      91.849998   5940.85009765625   True  \n",
       "3266               Mailed check      58.750000             2203.1     No  \n",
       "3128           Electronic check      99.700000             4747.2     No  \n",
       "\n",
       "[15 rows x 22 columns]"
      ]
     },
     "execution_count": 13,
     "metadata": {},
     "output_type": "execute_result"
    }
   ],
   "source": [
    "df.sample(15)"
   ]
  },
  {
   "cell_type": "code",
   "execution_count": 14,
   "id": "d8ad2f76",
   "metadata": {},
   "outputs": [
    {
     "data": {
      "text/plain": [
       "Unnamed: 0            int64\n",
       "customerID           object\n",
       "gender               object\n",
       "SeniorCitizen         int64\n",
       "Partner              object\n",
       "Dependents           object\n",
       "tenure                int64\n",
       "PhoneService         object\n",
       "MultipleLines        object\n",
       "InternetService      object\n",
       "OnlineSecurity       object\n",
       "OnlineBackup         object\n",
       "DeviceProtection     object\n",
       "TechSupport          object\n",
       "StreamingTV          object\n",
       "StreamingMovies      object\n",
       "Contract             object\n",
       "PaperlessBilling     object\n",
       "PaymentMethod        object\n",
       "MonthlyCharges      float64\n",
       "TotalCharges         object\n",
       "Churn                object\n",
       "dtype: object"
      ]
     },
     "execution_count": 14,
     "metadata": {},
     "output_type": "execute_result"
    }
   ],
   "source": [
    "df.dtypes"
   ]
  },
  {
   "cell_type": "code",
   "execution_count": 15,
   "id": "0ca55f19",
   "metadata": {},
   "outputs": [
    {
     "name": "stdout",
     "output_type": "stream",
     "text": [
      "<class 'pandas.core.frame.DataFrame'>\n",
      "RangeIndex: 5043 entries, 0 to 5042\n",
      "Data columns (total 22 columns):\n",
      " #   Column            Non-Null Count  Dtype  \n",
      "---  ------            --------------  -----  \n",
      " 0   Unnamed: 0        5043 non-null   int64  \n",
      " 1   customerID        5043 non-null   object \n",
      " 2   gender            5043 non-null   object \n",
      " 3   SeniorCitizen     5043 non-null   int64  \n",
      " 4   Partner           5043 non-null   object \n",
      " 5   Dependents        5043 non-null   object \n",
      " 6   tenure            5043 non-null   int64  \n",
      " 7   PhoneService      5043 non-null   object \n",
      " 8   MultipleLines     4774 non-null   object \n",
      " 9   InternetService   5043 non-null   object \n",
      " 10  OnlineSecurity    4392 non-null   object \n",
      " 11  OnlineBackup      4392 non-null   object \n",
      " 12  DeviceProtection  4392 non-null   object \n",
      " 13  TechSupport       4392 non-null   object \n",
      " 14  StreamingTV       4392 non-null   object \n",
      " 15  StreamingMovies   4392 non-null   object \n",
      " 16  Contract          5043 non-null   object \n",
      " 17  PaperlessBilling  5043 non-null   object \n",
      " 18  PaymentMethod     5043 non-null   object \n",
      " 19  MonthlyCharges    5043 non-null   float64\n",
      " 20  TotalCharges      5038 non-null   object \n",
      " 21  Churn             5042 non-null   object \n",
      "dtypes: float64(1), int64(3), object(18)\n",
      "memory usage: 866.9+ KB\n"
     ]
    }
   ],
   "source": [
    "df.info()"
   ]
  },
  {
   "cell_type": "code",
   "execution_count": 16,
   "id": "73cc900a",
   "metadata": {},
   "outputs": [
    {
     "data": {
      "text/plain": [
       "Unnamed: 0            0\n",
       "customerID            0\n",
       "gender                0\n",
       "SeniorCitizen         0\n",
       "Partner               0\n",
       "Dependents            0\n",
       "tenure                0\n",
       "PhoneService          0\n",
       "MultipleLines       269\n",
       "InternetService       0\n",
       "OnlineSecurity      651\n",
       "OnlineBackup        651\n",
       "DeviceProtection    651\n",
       "TechSupport         651\n",
       "StreamingTV         651\n",
       "StreamingMovies     651\n",
       "Contract              0\n",
       "PaperlessBilling      0\n",
       "PaymentMethod         0\n",
       "MonthlyCharges        0\n",
       "TotalCharges          5\n",
       "Churn                 1\n",
       "dtype: int64"
      ]
     },
     "execution_count": 16,
     "metadata": {},
     "output_type": "execute_result"
    }
   ],
   "source": [
    "# sum of null values\n",
    "df.isnull().sum()"
   ]
  },
  {
   "cell_type": "code",
   "execution_count": 17,
   "id": "ed374cfa",
   "metadata": {},
   "outputs": [],
   "source": [
    "df.drop(columns={'Unnamed: 0'}, inplace = True)"
   ]
  },
  {
   "cell_type": "code",
   "execution_count": 18,
   "id": "4dd1bc4c",
   "metadata": {},
   "outputs": [
    {
     "data": {
      "text/plain": [
       "False    2219\n",
       "No       1487\n",
       "True      780\n",
       "Yes       556\n",
       "Name: Churn, dtype: int64"
      ]
     },
     "execution_count": 18,
     "metadata": {},
     "output_type": "execute_result"
    }
   ],
   "source": [
    "df['Churn'].value_counts()\n"
   ]
  },
  {
   "cell_type": "code",
   "execution_count": 19,
   "id": "b712fe36",
   "metadata": {},
   "outputs": [
    {
     "data": {
      "text/html": [
       "<div>\n",
       "<style scoped>\n",
       "    .dataframe tbody tr th:only-of-type {\n",
       "        vertical-align: middle;\n",
       "    }\n",
       "\n",
       "    .dataframe tbody tr th {\n",
       "        vertical-align: top;\n",
       "    }\n",
       "\n",
       "    .dataframe thead th {\n",
       "        text-align: right;\n",
       "    }\n",
       "</style>\n",
       "<table border=\"1\" class=\"dataframe\">\n",
       "  <thead>\n",
       "    <tr style=\"text-align: right;\">\n",
       "      <th></th>\n",
       "      <th>SeniorCitizen</th>\n",
       "      <th>tenure</th>\n",
       "      <th>MonthlyCharges</th>\n",
       "    </tr>\n",
       "  </thead>\n",
       "  <tbody>\n",
       "    <tr>\n",
       "      <th>count</th>\n",
       "      <td>5043.000000</td>\n",
       "      <td>5043.000000</td>\n",
       "      <td>5043.000000</td>\n",
       "    </tr>\n",
       "    <tr>\n",
       "      <th>mean</th>\n",
       "      <td>0.162403</td>\n",
       "      <td>32.576641</td>\n",
       "      <td>65.090214</td>\n",
       "    </tr>\n",
       "    <tr>\n",
       "      <th>std</th>\n",
       "      <td>0.368857</td>\n",
       "      <td>24.529807</td>\n",
       "      <td>30.068133</td>\n",
       "    </tr>\n",
       "    <tr>\n",
       "      <th>min</th>\n",
       "      <td>0.000000</td>\n",
       "      <td>0.000000</td>\n",
       "      <td>18.400000</td>\n",
       "    </tr>\n",
       "    <tr>\n",
       "      <th>25%</th>\n",
       "      <td>0.000000</td>\n",
       "      <td>9.000000</td>\n",
       "      <td>35.775000</td>\n",
       "    </tr>\n",
       "    <tr>\n",
       "      <th>50%</th>\n",
       "      <td>0.000000</td>\n",
       "      <td>29.000000</td>\n",
       "      <td>70.550003</td>\n",
       "    </tr>\n",
       "    <tr>\n",
       "      <th>75%</th>\n",
       "      <td>0.000000</td>\n",
       "      <td>56.000000</td>\n",
       "      <td>90.050003</td>\n",
       "    </tr>\n",
       "    <tr>\n",
       "      <th>max</th>\n",
       "      <td>1.000000</td>\n",
       "      <td>72.000000</td>\n",
       "      <td>118.650002</td>\n",
       "    </tr>\n",
       "  </tbody>\n",
       "</table>\n",
       "</div>"
      ],
      "text/plain": [
       "       SeniorCitizen       tenure  MonthlyCharges\n",
       "count    5043.000000  5043.000000     5043.000000\n",
       "mean        0.162403    32.576641       65.090214\n",
       "std         0.368857    24.529807       30.068133\n",
       "min         0.000000     0.000000       18.400000\n",
       "25%         0.000000     9.000000       35.775000\n",
       "50%         0.000000    29.000000       70.550003\n",
       "75%         0.000000    56.000000       90.050003\n",
       "max         1.000000    72.000000      118.650002"
      ]
     },
     "execution_count": 19,
     "metadata": {},
     "output_type": "execute_result"
    }
   ],
   "source": [
    "df.describe()"
   ]
  },
  {
   "cell_type": "code",
   "execution_count": 20,
   "id": "c9efe154",
   "metadata": {},
   "outputs": [],
   "source": [
    "# categorical and numerical columns\n",
    "cat=[]\n",
    "num=[]\n",
    "\n",
    "for column in df.columns:\n",
    "    if df[column].nunique()> 9:\n",
    "        num.append(column)\n",
    "    else:\n",
    "        cat.append(column)"
   ]
  },
  {
   "cell_type": "code",
   "execution_count": 21,
   "id": "5f5ce0c5",
   "metadata": {},
   "outputs": [
    {
     "data": {
      "text/plain": [
       "['gender',\n",
       " 'SeniorCitizen',\n",
       " 'Partner',\n",
       " 'Dependents',\n",
       " 'PhoneService',\n",
       " 'MultipleLines',\n",
       " 'InternetService',\n",
       " 'OnlineSecurity',\n",
       " 'OnlineBackup',\n",
       " 'DeviceProtection',\n",
       " 'TechSupport',\n",
       " 'StreamingTV',\n",
       " 'StreamingMovies',\n",
       " 'Contract',\n",
       " 'PaperlessBilling',\n",
       " 'PaymentMethod',\n",
       " 'Churn']"
      ]
     },
     "execution_count": 21,
     "metadata": {},
     "output_type": "execute_result"
    }
   ],
   "source": [
    "cat"
   ]
  },
  {
   "cell_type": "code",
   "execution_count": 22,
   "id": "38b8355b",
   "metadata": {},
   "outputs": [
    {
     "data": {
      "text/plain": [
       "['customerID', 'tenure', 'MonthlyCharges', 'TotalCharges']"
      ]
     },
     "execution_count": 22,
     "metadata": {},
     "output_type": "execute_result"
    }
   ],
   "source": [
    "num"
   ]
  },
  {
   "cell_type": "code",
   "execution_count": 23,
   "id": "5cf3457c",
   "metadata": {},
   "outputs": [
    {
     "data": {
      "text/plain": [
       "customerID            0\n",
       "gender                0\n",
       "SeniorCitizen         0\n",
       "Partner               0\n",
       "Dependents            0\n",
       "tenure                0\n",
       "PhoneService          0\n",
       "MultipleLines       269\n",
       "InternetService       0\n",
       "OnlineSecurity      651\n",
       "OnlineBackup        651\n",
       "DeviceProtection    651\n",
       "TechSupport         651\n",
       "StreamingTV         651\n",
       "StreamingMovies     651\n",
       "Contract              0\n",
       "PaperlessBilling      0\n",
       "PaymentMethod         0\n",
       "MonthlyCharges        0\n",
       "TotalCharges          5\n",
       "Churn                 1\n",
       "dtype: int64"
      ]
     },
     "execution_count": 23,
     "metadata": {},
     "output_type": "execute_result"
    }
   ],
   "source": [
    "df.isnull().sum()"
   ]
  },
  {
   "cell_type": "code",
   "execution_count": 24,
   "id": "0e88715e",
   "metadata": {},
   "outputs": [
    {
     "data": {
      "text/plain": [
       "array(['False', 'True', nan, 'No', 'Yes'], dtype=object)"
      ]
     },
     "execution_count": 24,
     "metadata": {},
     "output_type": "execute_result"
    }
   ],
   "source": [
    "df['Churn'].unique()"
   ]
  },
  {
   "cell_type": "code",
   "execution_count": 25,
   "id": "5e6658b2",
   "metadata": {},
   "outputs": [],
   "source": [
    "df['Churn'] = df['Churn'].replace({'False': 'No', 'True': 'Yes'})\n"
   ]
  },
  {
   "cell_type": "markdown",
   "id": "06aab7a3",
   "metadata": {},
   "source": [
    "## Univariate Analysis"
   ]
  },
  {
   "cell_type": "code",
   "execution_count": 26,
   "id": "ff79ea63",
   "metadata": {},
   "outputs": [
    {
     "data": {
      "image/png": "[encoded data removed]",
      "text/plain": [
       "<Figure size 432x288 with 1 Axes>"
      ]
     },
     "metadata": {},
     "output_type": "display_data"
    }
   ],
   "source": [
    "df['PaymentMethod'].value_counts().plot(kind='pie',autopct='%1.2f%%', title='A piechart of Payment Methods',label='');"
   ]
  },
  {
   "cell_type": "markdown",
   "id": "035c6fc1",
   "metadata": {},
   "source": [
    "**Electronic check** is the most used payment method by customers, followed by **mailed check**."
   ]
  },
  {
   "cell_type": "code",
   "execution_count": 27,
   "id": "ca56f444",
   "metadata": {},
   "outputs": [
    {
     "data": {
      "text/plain": [
       "Male      2559\n",
       "Female    2484\n",
       "Name: gender, dtype: int64"
      ]
     },
     "execution_count": 27,
     "metadata": {},
     "output_type": "execute_result"
    }
   ],
   "source": [
    "df['gender'].value_counts()"
   ]
  },
  {
   "cell_type": "code",
   "execution_count": 28,
   "id": "b43f1c8a",
   "metadata": {},
   "outputs": [
    {
     "data": {
      "image/png": "[encoded data removed]",
      "text/plain": [
       "<Figure size 432x288 with 1 Axes>"
      ]
     },
     "metadata": {
      "needs_background": "light"
     },
     "output_type": "display_data"
    }
   ],
   "source": [
    "df['Churn'].value_counts().plot(kind='bar',title='Barplot of Churn',fontsize=14);"
   ]
  },
  {
   "cell_type": "code",
   "execution_count": 29,
   "id": "08a23e97",
   "metadata": {},
   "outputs": [
    {
     "data": {
      "image/png": "[encoded data removed]",
      "text/plain": [
       "<Figure size 432x288 with 1 Axes>"
      ]
     },
     "metadata": {
      "needs_background": "light"
     },
     "output_type": "display_data"
    }
   ],
   "source": [
    "# distribution of Monthly Charges\n",
    "sns.distplot(df['MonthlyCharges']);"
   ]
  },
  {
   "cell_type": "code",
   "execution_count": 30,
   "id": "50b7137e",
   "metadata": {},
   "outputs": [
    {
     "data": {
      "text/plain": [
       "-0.2387670788605832"
      ]
     },
     "execution_count": 30,
     "metadata": {},
     "output_type": "execute_result"
    }
   ],
   "source": [
    "df['MonthlyCharges'].skew()"
   ]
  },
  {
   "cell_type": "code",
   "execution_count": 31,
   "id": "b3d04756",
   "metadata": {
    "scrolled": true
   },
   "outputs": [
    {
     "data": {
      "image/png": "[encoded data removed]",
      "text/plain": [
       "<Figure size 432x288 with 1 Axes>"
      ]
     },
     "metadata": {
      "needs_background": "light"
     },
     "output_type": "display_data"
    }
   ],
   "source": [
    "# distribution of Tenure\n",
    "sns.distplot(df['tenure']);"
   ]
  },
  {
   "cell_type": "markdown",
   "id": "d5064d29",
   "metadata": {},
   "source": [
    "## Bivariate and Multivariate Analysis "
   ]
  },
  {
   "cell_type": "code",
   "execution_count": 32,
   "id": "c89bcf4b",
   "metadata": {
    "scrolled": true
   },
   "outputs": [
    {
     "data": {
      "image/png": "[encoded data removed]",
      "text/plain": [
       "<Figure size 432x288 with 1 Axes>"
      ]
     },
     "metadata": {
      "needs_background": "light"
     },
     "output_type": "display_data"
    }
   ],
   "source": [
    "sns.countplot( x='Churn', hue='gender', data=df)\n",
    "plt.title('Countplot of churn by Gender')\n",
    "plt.show()"
   ]
  },
  {
   "cell_type": "code",
   "execution_count": 33,
   "id": "d167ccdd",
   "metadata": {},
   "outputs": [
    {
     "data": {
      "text/plain": [
       "<AxesSubplot:xlabel='PaymentMethod', ylabel='gender'>"
      ]
     },
     "execution_count": 33,
     "metadata": {},
     "output_type": "execute_result"
    },
    {
     "data": {
      "image/png": "[encoded data removed]",
      "text/plain": [
       "<Figure size 432x288 with 2 Axes>"
      ]
     },
     "metadata": {
      "needs_background": "light"
     },
     "output_type": "display_data"
    }
   ],
   "source": [
    "# heatmap of gender against payment method\n",
    "sns.heatmap(pd.crosstab(df['gender'],df['PaymentMethod']))"
   ]
  },
  {
   "cell_type": "markdown",
   "id": "907a6dc6",
   "metadata": {},
   "source": [
    "## Feature Processing and Engineering"
   ]
  },
  {
   "cell_type": "code",
   "execution_count": 34,
   "id": "da4ad012",
   "metadata": {
    "scrolled": true
   },
   "outputs": [
    {
     "data": {
      "text/plain": [
       "False    5043\n",
       "dtype: int64"
      ]
     },
     "execution_count": 34,
     "metadata": {},
     "output_type": "execute_result"
    }
   ],
   "source": [
    "# dropping duplicates\n",
    "df.duplicated().value_counts()"
   ]
  },
  {
   "cell_type": "code",
   "execution_count": 35,
   "id": "37b0ed70",
   "metadata": {},
   "outputs": [],
   "source": [
    "df.drop(columns={'customerID','gender'}, inplace=True)"
   ]
  },
  {
   "cell_type": "markdown",
   "id": "a7793907",
   "metadata": {},
   "source": [
    "I have dropped these columns because\n",
    "1. customerID has no significance in our analysis.\n",
    "1. There is no significant difference in the number of males and females consuming this product."
   ]
  },
  {
   "cell_type": "code",
   "execution_count": 36,
   "id": "1dd5e843",
   "metadata": {},
   "outputs": [],
   "source": [
    "# Select the columns with missing values\n",
    "columns_with_missing = ['MultipleLines', 'OnlineSecurity', 'OnlineBackup', 'DeviceProtection',\n",
    "                        'TechSupport', 'StreamingTV', 'StreamingMovies', 'TotalCharges', 'Churn']\n",
    "\n",
    "\n",
    "imputer = SimpleImputer(strategy='most_frequent')\n",
    "\n",
    "imputer.fit(df[columns_with_missing])\n",
    "\n",
    "# Transform and replace the missing values in the DataFrame\n",
    "df[columns_with_missing] = imputer.transform(df[columns_with_missing])"
   ]
  },
  {
   "cell_type": "code",
   "execution_count": 37,
   "id": "a7b31d3f",
   "metadata": {},
   "outputs": [],
   "source": [
    "categorical_columns = ['gender', 'SeniorCitizen', 'Partner', 'Dependents', 'PhoneService', 'MultipleLines',\n",
    "                       'InternetService', 'OnlineSecurity', 'OnlineBackup', 'DeviceProtection', 'TechSupport',\n",
    "                       'StreamingTV', 'StreamingMovies', 'Contract', 'PaperlessBilling', 'PaymentMethod', 'Churn']\n",
    "\n",
    "# Define a dictionary to map the values you want to replace\n",
    "value_mapping = {\n",
    "    'True': 'Yes',\n",
    "    'False': 'No',\n",
    "    'No internet service': 'No'\n",
    "}\n",
    "\n",
    "# Transform the relevant columns\n",
    "for col in categorical_columns:\n",
    "    if col in df.columns:\n",
    "        df[col].replace(value_mapping, inplace=True)\n"
   ]
  },
  {
   "cell_type": "code",
   "execution_count": 38,
   "id": "455a5cc7",
   "metadata": {},
   "outputs": [
    {
     "data": {
      "text/html": [
       "<div>\n",
       "<style scoped>\n",
       "    .dataframe tbody tr th:only-of-type {\n",
       "        vertical-align: middle;\n",
       "    }\n",
       "\n",
       "    .dataframe tbody tr th {\n",
       "        vertical-align: top;\n",
       "    }\n",
       "\n",
       "    .dataframe thead th {\n",
       "        text-align: right;\n",
       "    }\n",
       "</style>\n",
       "<table border=\"1\" class=\"dataframe\">\n",
       "  <thead>\n",
       "    <tr style=\"text-align: right;\">\n",
       "      <th></th>\n",
       "      <th>SeniorCitizen</th>\n",
       "      <th>Partner</th>\n",
       "      <th>Dependents</th>\n",
       "      <th>tenure</th>\n",
       "      <th>PhoneService</th>\n",
       "      <th>MultipleLines</th>\n",
       "      <th>InternetService</th>\n",
       "      <th>OnlineSecurity</th>\n",
       "      <th>OnlineBackup</th>\n",
       "      <th>DeviceProtection</th>\n",
       "      <th>TechSupport</th>\n",
       "      <th>StreamingTV</th>\n",
       "      <th>StreamingMovies</th>\n",
       "      <th>Contract</th>\n",
       "      <th>PaperlessBilling</th>\n",
       "      <th>PaymentMethod</th>\n",
       "      <th>MonthlyCharges</th>\n",
       "      <th>TotalCharges</th>\n",
       "    </tr>\n",
       "  </thead>\n",
       "  <tbody>\n",
       "    <tr>\n",
       "      <th>0</th>\n",
       "      <td>0</td>\n",
       "      <td>Yes</td>\n",
       "      <td>No</td>\n",
       "      <td>1</td>\n",
       "      <td>No</td>\n",
       "      <td>No</td>\n",
       "      <td>DSL</td>\n",
       "      <td>No</td>\n",
       "      <td>Yes</td>\n",
       "      <td>No</td>\n",
       "      <td>No</td>\n",
       "      <td>No</td>\n",
       "      <td>No</td>\n",
       "      <td>Month-to-month</td>\n",
       "      <td>Yes</td>\n",
       "      <td>Electronic check</td>\n",
       "      <td>29.850000</td>\n",
       "      <td>29.850000381469727</td>\n",
       "    </tr>\n",
       "    <tr>\n",
       "      <th>1</th>\n",
       "      <td>0</td>\n",
       "      <td>No</td>\n",
       "      <td>No</td>\n",
       "      <td>34</td>\n",
       "      <td>Yes</td>\n",
       "      <td>No</td>\n",
       "      <td>DSL</td>\n",
       "      <td>Yes</td>\n",
       "      <td>No</td>\n",
       "      <td>Yes</td>\n",
       "      <td>No</td>\n",
       "      <td>No</td>\n",
       "      <td>No</td>\n",
       "      <td>One year</td>\n",
       "      <td>No</td>\n",
       "      <td>Mailed check</td>\n",
       "      <td>56.950001</td>\n",
       "      <td>1889.5</td>\n",
       "    </tr>\n",
       "    <tr>\n",
       "      <th>2</th>\n",
       "      <td>0</td>\n",
       "      <td>No</td>\n",
       "      <td>No</td>\n",
       "      <td>2</td>\n",
       "      <td>Yes</td>\n",
       "      <td>No</td>\n",
       "      <td>DSL</td>\n",
       "      <td>Yes</td>\n",
       "      <td>Yes</td>\n",
       "      <td>No</td>\n",
       "      <td>No</td>\n",
       "      <td>No</td>\n",
       "      <td>No</td>\n",
       "      <td>Month-to-month</td>\n",
       "      <td>Yes</td>\n",
       "      <td>Mailed check</td>\n",
       "      <td>53.849998</td>\n",
       "      <td>108.1500015258789</td>\n",
       "    </tr>\n",
       "    <tr>\n",
       "      <th>3</th>\n",
       "      <td>0</td>\n",
       "      <td>No</td>\n",
       "      <td>No</td>\n",
       "      <td>45</td>\n",
       "      <td>No</td>\n",
       "      <td>No</td>\n",
       "      <td>DSL</td>\n",
       "      <td>Yes</td>\n",
       "      <td>No</td>\n",
       "      <td>Yes</td>\n",
       "      <td>Yes</td>\n",
       "      <td>No</td>\n",
       "      <td>No</td>\n",
       "      <td>One year</td>\n",
       "      <td>No</td>\n",
       "      <td>Bank transfer (automatic)</td>\n",
       "      <td>42.299999</td>\n",
       "      <td>1840.75</td>\n",
       "    </tr>\n",
       "    <tr>\n",
       "      <th>4</th>\n",
       "      <td>0</td>\n",
       "      <td>No</td>\n",
       "      <td>No</td>\n",
       "      <td>2</td>\n",
       "      <td>Yes</td>\n",
       "      <td>No</td>\n",
       "      <td>Fiber optic</td>\n",
       "      <td>No</td>\n",
       "      <td>No</td>\n",
       "      <td>No</td>\n",
       "      <td>No</td>\n",
       "      <td>No</td>\n",
       "      <td>No</td>\n",
       "      <td>Month-to-month</td>\n",
       "      <td>Yes</td>\n",
       "      <td>Electronic check</td>\n",
       "      <td>70.699997</td>\n",
       "      <td>151.64999389648438</td>\n",
       "    </tr>\n",
       "    <tr>\n",
       "      <th>...</th>\n",
       "      <td>...</td>\n",
       "      <td>...</td>\n",
       "      <td>...</td>\n",
       "      <td>...</td>\n",
       "      <td>...</td>\n",
       "      <td>...</td>\n",
       "      <td>...</td>\n",
       "      <td>...</td>\n",
       "      <td>...</td>\n",
       "      <td>...</td>\n",
       "      <td>...</td>\n",
       "      <td>...</td>\n",
       "      <td>...</td>\n",
       "      <td>...</td>\n",
       "      <td>...</td>\n",
       "      <td>...</td>\n",
       "      <td>...</td>\n",
       "      <td>...</td>\n",
       "    </tr>\n",
       "    <tr>\n",
       "      <th>5038</th>\n",
       "      <td>0</td>\n",
       "      <td>Yes</td>\n",
       "      <td>Yes</td>\n",
       "      <td>24</td>\n",
       "      <td>Yes</td>\n",
       "      <td>Yes</td>\n",
       "      <td>DSL</td>\n",
       "      <td>Yes</td>\n",
       "      <td>No</td>\n",
       "      <td>Yes</td>\n",
       "      <td>Yes</td>\n",
       "      <td>Yes</td>\n",
       "      <td>Yes</td>\n",
       "      <td>One year</td>\n",
       "      <td>Yes</td>\n",
       "      <td>Mailed check</td>\n",
       "      <td>84.800000</td>\n",
       "      <td>1990.5</td>\n",
       "    </tr>\n",
       "    <tr>\n",
       "      <th>5039</th>\n",
       "      <td>0</td>\n",
       "      <td>Yes</td>\n",
       "      <td>Yes</td>\n",
       "      <td>72</td>\n",
       "      <td>Yes</td>\n",
       "      <td>Yes</td>\n",
       "      <td>Fiber optic</td>\n",
       "      <td>No</td>\n",
       "      <td>Yes</td>\n",
       "      <td>Yes</td>\n",
       "      <td>No</td>\n",
       "      <td>Yes</td>\n",
       "      <td>Yes</td>\n",
       "      <td>One year</td>\n",
       "      <td>Yes</td>\n",
       "      <td>Credit card (automatic)</td>\n",
       "      <td>103.200000</td>\n",
       "      <td>7362.9</td>\n",
       "    </tr>\n",
       "    <tr>\n",
       "      <th>5040</th>\n",
       "      <td>0</td>\n",
       "      <td>Yes</td>\n",
       "      <td>Yes</td>\n",
       "      <td>11</td>\n",
       "      <td>No</td>\n",
       "      <td>No phone service</td>\n",
       "      <td>DSL</td>\n",
       "      <td>Yes</td>\n",
       "      <td>No</td>\n",
       "      <td>No</td>\n",
       "      <td>No</td>\n",
       "      <td>No</td>\n",
       "      <td>No</td>\n",
       "      <td>Month-to-month</td>\n",
       "      <td>Yes</td>\n",
       "      <td>Electronic check</td>\n",
       "      <td>29.600000</td>\n",
       "      <td>346.45</td>\n",
       "    </tr>\n",
       "    <tr>\n",
       "      <th>5041</th>\n",
       "      <td>1</td>\n",
       "      <td>Yes</td>\n",
       "      <td>No</td>\n",
       "      <td>4</td>\n",
       "      <td>Yes</td>\n",
       "      <td>Yes</td>\n",
       "      <td>Fiber optic</td>\n",
       "      <td>No</td>\n",
       "      <td>No</td>\n",
       "      <td>No</td>\n",
       "      <td>No</td>\n",
       "      <td>No</td>\n",
       "      <td>No</td>\n",
       "      <td>Month-to-month</td>\n",
       "      <td>Yes</td>\n",
       "      <td>Mailed check</td>\n",
       "      <td>74.400000</td>\n",
       "      <td>306.6</td>\n",
       "    </tr>\n",
       "    <tr>\n",
       "      <th>5042</th>\n",
       "      <td>0</td>\n",
       "      <td>No</td>\n",
       "      <td>No</td>\n",
       "      <td>66</td>\n",
       "      <td>Yes</td>\n",
       "      <td>No</td>\n",
       "      <td>Fiber optic</td>\n",
       "      <td>Yes</td>\n",
       "      <td>No</td>\n",
       "      <td>Yes</td>\n",
       "      <td>Yes</td>\n",
       "      <td>Yes</td>\n",
       "      <td>Yes</td>\n",
       "      <td>Two year</td>\n",
       "      <td>Yes</td>\n",
       "      <td>Bank transfer (automatic)</td>\n",
       "      <td>105.650000</td>\n",
       "      <td>6844.5</td>\n",
       "    </tr>\n",
       "  </tbody>\n",
       "</table>\n",
       "<p>5043 rows × 18 columns</p>\n",
       "</div>"
      ],
      "text/plain": [
       "      SeniorCitizen Partner Dependents  tenure PhoneService     MultipleLines  \\\n",
       "0                 0     Yes         No       1           No                No   \n",
       "1                 0      No         No      34          Yes                No   \n",
       "2                 0      No         No       2          Yes                No   \n",
       "3                 0      No         No      45           No                No   \n",
       "4                 0      No         No       2          Yes                No   \n",
       "...             ...     ...        ...     ...          ...               ...   \n",
       "5038              0     Yes        Yes      24          Yes               Yes   \n",
       "5039              0     Yes        Yes      72          Yes               Yes   \n",
       "5040              0     Yes        Yes      11           No  No phone service   \n",
       "5041              1     Yes         No       4          Yes               Yes   \n",
       "5042              0      No         No      66          Yes                No   \n",
       "\n",
       "     InternetService OnlineSecurity OnlineBackup DeviceProtection TechSupport  \\\n",
       "0                DSL             No          Yes               No          No   \n",
       "1                DSL            Yes           No              Yes          No   \n",
       "2                DSL            Yes          Yes               No          No   \n",
       "3                DSL            Yes           No              Yes         Yes   \n",
       "4        Fiber optic             No           No               No          No   \n",
       "...              ...            ...          ...              ...         ...   \n",
       "5038             DSL            Yes           No              Yes         Yes   \n",
       "5039     Fiber optic             No          Yes              Yes          No   \n",
       "5040             DSL            Yes           No               No          No   \n",
       "5041     Fiber optic             No           No               No          No   \n",
       "5042     Fiber optic            Yes           No              Yes         Yes   \n",
       "\n",
       "     StreamingTV StreamingMovies        Contract PaperlessBilling  \\\n",
       "0             No              No  Month-to-month              Yes   \n",
       "1             No              No        One year               No   \n",
       "2             No              No  Month-to-month              Yes   \n",
       "3             No              No        One year               No   \n",
       "4             No              No  Month-to-month              Yes   \n",
       "...          ...             ...             ...              ...   \n",
       "5038         Yes             Yes        One year              Yes   \n",
       "5039         Yes             Yes        One year              Yes   \n",
       "5040          No              No  Month-to-month              Yes   \n",
       "5041          No              No  Month-to-month              Yes   \n",
       "5042         Yes             Yes        Two year              Yes   \n",
       "\n",
       "                  PaymentMethod  MonthlyCharges        TotalCharges  \n",
       "0              Electronic check       29.850000  29.850000381469727  \n",
       "1                  Mailed check       56.950001              1889.5  \n",
       "2                  Mailed check       53.849998   108.1500015258789  \n",
       "3     Bank transfer (automatic)       42.299999             1840.75  \n",
       "4              Electronic check       70.699997  151.64999389648438  \n",
       "...                         ...             ...                 ...  \n",
       "5038               Mailed check       84.800000              1990.5  \n",
       "5039    Credit card (automatic)      103.200000              7362.9  \n",
       "5040           Electronic check       29.600000              346.45  \n",
       "5041               Mailed check       74.400000               306.6  \n",
       "5042  Bank transfer (automatic)      105.650000              6844.5  \n",
       "\n",
       "[5043 rows x 18 columns]"
      ]
     },
     "execution_count": 38,
     "metadata": {},
     "output_type": "execute_result"
    }
   ],
   "source": [
    "X=df.drop(columns={'Churn'},axis=1)\n",
    "y=df['Churn']\n",
    "X"
   ]
  },
  {
   "cell_type": "code",
   "execution_count": 39,
   "id": "b4bfb8e3",
   "metadata": {
    "scrolled": true
   },
   "outputs": [
    {
     "data": {
      "text/plain": [
       "0        No\n",
       "1        No\n",
       "2       Yes\n",
       "3        No\n",
       "4       Yes\n",
       "       ... \n",
       "5038     No\n",
       "5039     No\n",
       "5040     No\n",
       "5041    Yes\n",
       "5042     No\n",
       "Name: Churn, Length: 5043, dtype: object"
      ]
     },
     "execution_count": 39,
     "metadata": {},
     "output_type": "execute_result"
    }
   ],
   "source": [
    "y"
   ]
  },
  {
   "cell_type": "code",
   "execution_count": 40,
   "id": "db5dd551",
   "metadata": {},
   "outputs": [],
   "source": [
    "# Define categorical and numerical columns\n",
    "categorical_cols = ['SeniorCitizen', 'Partner', 'Dependents', 'PhoneService', 'MultipleLines',\n",
    "                    'InternetService', 'OnlineSecurity', 'OnlineBackup', 'DeviceProtection', 'TechSupport',\n",
    "                    'StreamingTV', 'StreamingMovies', 'Contract', 'PaperlessBilling', 'PaymentMethod']\n",
    "numerical_cols = ['tenure', 'MonthlyCharges', 'TotalCharges']\n",
    "target_col = 'Churn'\n",
    "\n",
    "# Strip leading and trailing spaces from all columns\n",
    "df = df.apply(lambda x: x.str.strip() if x.dtype == \"object\" else x)\n",
    "\n",
    "# Replace empty strings in 'TotalCharges' with NaN\n",
    "df['TotalCharges'] = df['TotalCharges'].replace('', float('nan'))\n",
    "\n",
    "# Split features and target variable\n",
    "X = df[categorical_cols + numerical_cols]\n",
    "y = df[target_col]"
   ]
  },
  {
   "cell_type": "markdown",
   "id": "53506fdc",
   "metadata": {},
   "source": [
    "## Feature encoding"
   ]
  },
  {
   "cell_type": "code",
   "execution_count": 41,
   "id": "44541af0",
   "metadata": {},
   "outputs": [],
   "source": [
    "# Perform one-hot encoding on categorical columns\n",
    "encoder = OneHotEncoder(drop='first')\n",
    "X_encoded = encoder.fit_transform(X[categorical_cols])\n",
    "\n",
    "# Get feature names after encoding\n",
    "encoded_feature_names = encoder.get_feature_names_out(categorical_cols)\n",
    "\n",
    "# Create a DataFrame with the encoded features and feature names\n",
    "X_encoded = pd.DataFrame(X_encoded.toarray(), columns=encoded_feature_names)\n",
    "\n",
    "# Concatenate encoded features with numerical columns\n",
    "X_encoded = pd.concat([X_encoded, X[numerical_cols]], axis=1)\n"
   ]
  },
  {
   "cell_type": "code",
   "execution_count": 42,
   "id": "9ecb1ad7",
   "metadata": {},
   "outputs": [],
   "source": [
    "# Split the data into train and test sets\n",
    "\n",
    "X_train, X_test, y_train, y_test = train_test_split(X_encoded, y, test_size=0.2,stratify=y, random_state=42)"
   ]
  },
  {
   "cell_type": "code",
   "execution_count": 43,
   "id": "289decf1",
   "metadata": {},
   "outputs": [],
   "source": [
    "# Impute missing values in numerical columns\n",
    "imputer = SimpleImputer(strategy='mean')\n",
    "X_train[numerical_cols] = imputer.fit_transform(X_train[numerical_cols])\n",
    "X_test[numerical_cols] = imputer.transform(X_test[numerical_cols])"
   ]
  },
  {
   "cell_type": "code",
   "execution_count": 44,
   "id": "b79327d6",
   "metadata": {},
   "outputs": [],
   "source": [
    "# Scale the numerical columns\n",
    "scaler = StandardScaler()\n",
    "X_train[numerical_cols] = scaler.fit_transform(X_train[numerical_cols])\n",
    "X_test[numerical_cols] = scaler.transform(X_test[numerical_cols])"
   ]
  },
  {
   "cell_type": "markdown",
   "id": "b30b10b1",
   "metadata": {},
   "source": [
    "## Train_set Balancing"
   ]
  },
  {
   "cell_type": "code",
   "execution_count": 45,
   "id": "f05842dd",
   "metadata": {},
   "outputs": [],
   "source": [
    "# Apply SMOTE to balance the train set\n",
    "smote = SMOTE()\n",
    "X_train_balanced, y_train_balanced = smote.fit_resample(X_train, y_train)"
   ]
  },
  {
   "cell_type": "code",
   "execution_count": 46,
   "id": "c11bec87",
   "metadata": {},
   "outputs": [
    {
     "data": {
      "text/html": [
       "<div>\n",
       "<style scoped>\n",
       "    .dataframe tbody tr th:only-of-type {\n",
       "        vertical-align: middle;\n",
       "    }\n",
       "\n",
       "    .dataframe tbody tr th {\n",
       "        vertical-align: top;\n",
       "    }\n",
       "\n",
       "    .dataframe thead th {\n",
       "        text-align: right;\n",
       "    }\n",
       "</style>\n",
       "<table border=\"1\" class=\"dataframe\">\n",
       "  <thead>\n",
       "    <tr style=\"text-align: right;\">\n",
       "      <th></th>\n",
       "      <th>SeniorCitizen_1</th>\n",
       "      <th>Partner_Yes</th>\n",
       "      <th>Dependents_Yes</th>\n",
       "      <th>PhoneService_Yes</th>\n",
       "      <th>MultipleLines_No phone service</th>\n",
       "      <th>MultipleLines_Yes</th>\n",
       "      <th>InternetService_Fiber optic</th>\n",
       "      <th>InternetService_No</th>\n",
       "      <th>OnlineSecurity_Yes</th>\n",
       "      <th>OnlineBackup_Yes</th>\n",
       "      <th>...</th>\n",
       "      <th>Contract_One year</th>\n",
       "      <th>Contract_Two year</th>\n",
       "      <th>PaperlessBilling_Yes</th>\n",
       "      <th>PaymentMethod_Credit card (automatic)</th>\n",
       "      <th>PaymentMethod_Electronic check</th>\n",
       "      <th>PaymentMethod_Mailed check</th>\n",
       "      <th>tenure</th>\n",
       "      <th>MonthlyCharges</th>\n",
       "      <th>TotalCharges</th>\n",
       "      <th>Churn</th>\n",
       "    </tr>\n",
       "  </thead>\n",
       "  <tbody>\n",
       "    <tr>\n",
       "      <th>0</th>\n",
       "      <td>0.0</td>\n",
       "      <td>0.0</td>\n",
       "      <td>0.0</td>\n",
       "      <td>1.0</td>\n",
       "      <td>0.0</td>\n",
       "      <td>0.0</td>\n",
       "      <td>1.0</td>\n",
       "      <td>0.0</td>\n",
       "      <td>0.0</td>\n",
       "      <td>0.0</td>\n",
       "      <td>...</td>\n",
       "      <td>0.0</td>\n",
       "      <td>0.0</td>\n",
       "      <td>0.0</td>\n",
       "      <td>0.0</td>\n",
       "      <td>1.0</td>\n",
       "      <td>0.0</td>\n",
       "      <td>-0.107406</td>\n",
       "      <td>0.668918</td>\n",
       "      <td>0.109880</td>\n",
       "      <td>Yes</td>\n",
       "    </tr>\n",
       "    <tr>\n",
       "      <th>1</th>\n",
       "      <td>0.0</td>\n",
       "      <td>0.0</td>\n",
       "      <td>0.0</td>\n",
       "      <td>1.0</td>\n",
       "      <td>0.0</td>\n",
       "      <td>0.0</td>\n",
       "      <td>0.0</td>\n",
       "      <td>1.0</td>\n",
       "      <td>0.0</td>\n",
       "      <td>0.0</td>\n",
       "      <td>...</td>\n",
       "      <td>0.0</td>\n",
       "      <td>0.0</td>\n",
       "      <td>1.0</td>\n",
       "      <td>1.0</td>\n",
       "      <td>0.0</td>\n",
       "      <td>0.0</td>\n",
       "      <td>-0.515543</td>\n",
       "      <td>-1.524645</td>\n",
       "      <td>-0.861049</td>\n",
       "      <td>No</td>\n",
       "    </tr>\n",
       "    <tr>\n",
       "      <th>2</th>\n",
       "      <td>0.0</td>\n",
       "      <td>0.0</td>\n",
       "      <td>0.0</td>\n",
       "      <td>1.0</td>\n",
       "      <td>0.0</td>\n",
       "      <td>1.0</td>\n",
       "      <td>1.0</td>\n",
       "      <td>0.0</td>\n",
       "      <td>0.0</td>\n",
       "      <td>1.0</td>\n",
       "      <td>...</td>\n",
       "      <td>0.0</td>\n",
       "      <td>0.0</td>\n",
       "      <td>1.0</td>\n",
       "      <td>0.0</td>\n",
       "      <td>1.0</td>\n",
       "      <td>0.0</td>\n",
       "      <td>-1.127747</td>\n",
       "      <td>0.673885</td>\n",
       "      <td>-0.827413</td>\n",
       "      <td>Yes</td>\n",
       "    </tr>\n",
       "    <tr>\n",
       "      <th>3</th>\n",
       "      <td>0.0</td>\n",
       "      <td>0.0</td>\n",
       "      <td>1.0</td>\n",
       "      <td>1.0</td>\n",
       "      <td>0.0</td>\n",
       "      <td>0.0</td>\n",
       "      <td>0.0</td>\n",
       "      <td>1.0</td>\n",
       "      <td>0.0</td>\n",
       "      <td>0.0</td>\n",
       "      <td>...</td>\n",
       "      <td>0.0</td>\n",
       "      <td>1.0</td>\n",
       "      <td>0.0</td>\n",
       "      <td>1.0</td>\n",
       "      <td>0.0</td>\n",
       "      <td>0.0</td>\n",
       "      <td>0.668053</td>\n",
       "      <td>-1.473324</td>\n",
       "      <td>-0.563384</td>\n",
       "      <td>No</td>\n",
       "    </tr>\n",
       "    <tr>\n",
       "      <th>4</th>\n",
       "      <td>0.0</td>\n",
       "      <td>1.0</td>\n",
       "      <td>1.0</td>\n",
       "      <td>1.0</td>\n",
       "      <td>0.0</td>\n",
       "      <td>1.0</td>\n",
       "      <td>1.0</td>\n",
       "      <td>0.0</td>\n",
       "      <td>0.0</td>\n",
       "      <td>1.0</td>\n",
       "      <td>...</td>\n",
       "      <td>0.0</td>\n",
       "      <td>1.0</td>\n",
       "      <td>0.0</td>\n",
       "      <td>0.0</td>\n",
       "      <td>0.0</td>\n",
       "      <td>0.0</td>\n",
       "      <td>1.606766</td>\n",
       "      <td>0.844403</td>\n",
       "      <td>1.872985</td>\n",
       "      <td>No</td>\n",
       "    </tr>\n",
       "  </tbody>\n",
       "</table>\n",
       "<p>5 rows × 24 columns</p>\n",
       "</div>"
      ],
      "text/plain": [
       "   SeniorCitizen_1  Partner_Yes  Dependents_Yes  PhoneService_Yes  \\\n",
       "0              0.0          0.0             0.0               1.0   \n",
       "1              0.0          0.0             0.0               1.0   \n",
       "2              0.0          0.0             0.0               1.0   \n",
       "3              0.0          0.0             1.0               1.0   \n",
       "4              0.0          1.0             1.0               1.0   \n",
       "\n",
       "   MultipleLines_No phone service  MultipleLines_Yes  \\\n",
       "0                             0.0                0.0   \n",
       "1                             0.0                0.0   \n",
       "2                             0.0                1.0   \n",
       "3                             0.0                0.0   \n",
       "4                             0.0                1.0   \n",
       "\n",
       "   InternetService_Fiber optic  InternetService_No  OnlineSecurity_Yes  \\\n",
       "0                          1.0                 0.0                 0.0   \n",
       "1                          0.0                 1.0                 0.0   \n",
       "2                          1.0                 0.0                 0.0   \n",
       "3                          0.0                 1.0                 0.0   \n",
       "4                          1.0                 0.0                 0.0   \n",
       "\n",
       "   OnlineBackup_Yes  ...  Contract_One year  Contract_Two year  \\\n",
       "0               0.0  ...                0.0                0.0   \n",
       "1               0.0  ...                0.0                0.0   \n",
       "2               1.0  ...                0.0                0.0   \n",
       "3               0.0  ...                0.0                1.0   \n",
       "4               1.0  ...                0.0                1.0   \n",
       "\n",
       "   PaperlessBilling_Yes  PaymentMethod_Credit card (automatic)  \\\n",
       "0                   0.0                                    0.0   \n",
       "1                   1.0                                    1.0   \n",
       "2                   1.0                                    0.0   \n",
       "3                   0.0                                    1.0   \n",
       "4                   0.0                                    0.0   \n",
       "\n",
       "   PaymentMethod_Electronic check  PaymentMethod_Mailed check    tenure  \\\n",
       "0                             1.0                         0.0 -0.107406   \n",
       "1                             0.0                         0.0 -0.515543   \n",
       "2                             1.0                         0.0 -1.127747   \n",
       "3                             0.0                         0.0  0.668053   \n",
       "4                             0.0                         0.0  1.606766   \n",
       "\n",
       "   MonthlyCharges  TotalCharges  Churn  \n",
       "0        0.668918      0.109880    Yes  \n",
       "1       -1.524645     -0.861049     No  \n",
       "2        0.673885     -0.827413    Yes  \n",
       "3       -1.473324     -0.563384     No  \n",
       "4        0.844403      1.872985     No  \n",
       "\n",
       "[5 rows x 24 columns]"
      ]
     },
     "execution_count": 46,
     "metadata": {},
     "output_type": "execute_result"
    }
   ],
   "source": [
    "# Concatenate the balanced features and target variable into a single DataFrame\n",
    "balanced_data = pd.concat([X_train_balanced, y_train_balanced], axis=1)\n",
    "\n",
    "# Display the balanced data\n",
    "balanced_data.head()\n"
   ]
  },
  {
   "cell_type": "markdown",
   "id": "c0c4bf51",
   "metadata": {},
   "source": [
    "## Machine Learning modeling\n",
    " **build**, **train**, **evaluate** and **compare** the models to each others."
   ]
  },
  {
   "cell_type": "markdown",
   "id": "bdfb4324",
   "metadata": {},
   "source": [
    "## Simple Model 001"
   ]
  },
  {
   "cell_type": "markdown",
   "id": "80544dc7",
   "metadata": {},
   "source": [
    "## Create the model"
   ]
  },
  {
   "cell_type": "code",
   "execution_count": 47,
   "id": "d087e2aa",
   "metadata": {},
   "outputs": [],
   "source": [
    "# instantiate model\n",
    "knn= KNeighborsClassifier()"
   ]
  },
  {
   "cell_type": "markdown",
   "id": "339a4d63",
   "metadata": {},
   "source": [
    "## Train the model"
   ]
  },
  {
   "cell_type": "code",
   "execution_count": 48,
   "id": "15e71445",
   "metadata": {},
   "outputs": [
    {
     "data": {
      "text/plain": [
       "KNeighborsClassifier()"
      ]
     },
     "execution_count": 48,
     "metadata": {},
     "output_type": "execute_result"
    }
   ],
   "source": [
    "# Use the .fit method\n",
    "knn.fit(X_train_balanced, y_train_balanced)"
   ]
  },
  {
   "cell_type": "code",
   "execution_count": 49,
   "id": "5a54c89c",
   "metadata": {},
   "outputs": [],
   "source": [
    "models_trained=[]\n",
    "models_trained.append(knn)"
   ]
  },
  {
   "cell_type": "markdown",
   "id": "22214931",
   "metadata": {},
   "source": [
    "## Evaluate the model on the Evaluation dataset(Evalset)"
   ]
  },
  {
   "cell_type": "code",
   "execution_count": 50,
   "id": "e4ac834f",
   "metadata": {},
   "outputs": [],
   "source": [
    "y_pred = knn.predict(X_test)"
   ]
  },
  {
   "cell_type": "code",
   "execution_count": 51,
   "id": "01df44e1",
   "metadata": {},
   "outputs": [
    {
     "name": "stdout",
     "output_type": "stream",
     "text": [
      "              precision    recall  f1-score   support\n",
      "\n",
      "          No       0.89      0.68      0.77       742\n",
      "         Yes       0.46      0.76      0.58       267\n",
      "\n",
      "    accuracy                           0.70      1009\n",
      "   macro avg       0.68      0.72      0.67      1009\n",
      "weighted avg       0.78      0.70      0.72      1009\n",
      "\n"
     ]
    }
   ],
   "source": [
    "from sklearn.metrics import classification_report\n",
    "print(classification_report(y_true=y_test,y_pred=y_pred))"
   ]
  },
  {
   "cell_type": "markdown",
   "id": "2467cf82",
   "metadata": {},
   "source": [
    "## Simple Model 002"
   ]
  },
  {
   "cell_type": "markdown",
   "id": "af310fcc",
   "metadata": {},
   "source": [
    "## Create the model"
   ]
  },
  {
   "cell_type": "code",
   "execution_count": 52,
   "id": "17a29b87",
   "metadata": {},
   "outputs": [],
   "source": [
    "# instantiate model\n",
    "ada= AdaBoostClassifier()"
   ]
  },
  {
   "cell_type": "markdown",
   "id": "c1ee0ce9",
   "metadata": {},
   "source": [
    "## Train the model"
   ]
  },
  {
   "cell_type": "code",
   "execution_count": 53,
   "id": "fd32855a",
   "metadata": {},
   "outputs": [
    {
     "data": {
      "text/plain": [
       "AdaBoostClassifier()"
      ]
     },
     "execution_count": 53,
     "metadata": {},
     "output_type": "execute_result"
    }
   ],
   "source": [
    "ada.fit(X_train_balanced, y_train_balanced)"
   ]
  },
  {
   "cell_type": "code",
   "execution_count": 54,
   "id": "0ca2f834",
   "metadata": {},
   "outputs": [],
   "source": [
    "models_trained.append(ada)"
   ]
  },
  {
   "cell_type": "markdown",
   "id": "1b207ad9",
   "metadata": {},
   "source": [
    "## Evaluate the model on the Evaluation dataset(Evalset)"
   ]
  },
  {
   "cell_type": "code",
   "execution_count": 55,
   "id": "e128fd89",
   "metadata": {},
   "outputs": [],
   "source": [
    "y_pred = ada.predict(X_test)"
   ]
  },
  {
   "cell_type": "code",
   "execution_count": 56,
   "id": "9dd37911",
   "metadata": {},
   "outputs": [
    {
     "name": "stdout",
     "output_type": "stream",
     "text": [
      "              precision    recall  f1-score   support\n",
      "\n",
      "          No       0.90      0.75      0.82       742\n",
      "         Yes       0.53      0.78      0.63       267\n",
      "\n",
      "    accuracy                           0.76      1009\n",
      "   macro avg       0.71      0.76      0.72      1009\n",
      "weighted avg       0.80      0.76      0.77      1009\n",
      "\n"
     ]
    }
   ],
   "source": [
    "print(classification_report(y_true=y_test,y_pred=y_pred))"
   ]
  },
  {
   "cell_type": "markdown",
   "id": "bbbc5586",
   "metadata": {},
   "source": [
    "# Simple Model 003"
   ]
  },
  {
   "cell_type": "code",
   "execution_count": 57,
   "id": "0f7f1649",
   "metadata": {},
   "outputs": [],
   "source": [
    "# instantiate model\n",
    "gb=GradientBoostingClassifier()"
   ]
  },
  {
   "cell_type": "code",
   "execution_count": 58,
   "id": "da65929d",
   "metadata": {},
   "outputs": [
    {
     "data": {
      "text/plain": [
       "GradientBoostingClassifier()"
      ]
     },
     "execution_count": 58,
     "metadata": {},
     "output_type": "execute_result"
    }
   ],
   "source": [
    "# train the model\n",
    "gb.fit(X_train_balanced, y_train_balanced)"
   ]
  },
  {
   "cell_type": "code",
   "execution_count": 59,
   "id": "cec233c5",
   "metadata": {},
   "outputs": [],
   "source": [
    "models_trained.append(gb)"
   ]
  },
  {
   "cell_type": "code",
   "execution_count": 60,
   "id": "010502f7",
   "metadata": {},
   "outputs": [],
   "source": [
    "# evaluate the model on the evaluation dataset\n",
    "y_pred = gb.predict(X_test)"
   ]
  },
  {
   "cell_type": "code",
   "execution_count": 61,
   "id": "5ee3dccf",
   "metadata": {},
   "outputs": [
    {
     "name": "stdout",
     "output_type": "stream",
     "text": [
      "              precision    recall  f1-score   support\n",
      "\n",
      "          No       0.88      0.81      0.85       742\n",
      "         Yes       0.57      0.70      0.63       267\n",
      "\n",
      "    accuracy                           0.78      1009\n",
      "   macro avg       0.73      0.76      0.74      1009\n",
      "weighted avg       0.80      0.78      0.79      1009\n",
      "\n"
     ]
    }
   ],
   "source": [
    "print(classification_report(y_true=y_test,y_pred=y_pred))"
   ]
  },
  {
   "cell_type": "markdown",
   "id": "d67d8ac8",
   "metadata": {},
   "source": [
    "# Simple Model 004"
   ]
  },
  {
   "cell_type": "code",
   "execution_count": 62,
   "id": "295b0945",
   "metadata": {},
   "outputs": [
    {
     "name": "stdout",
     "output_type": "stream",
     "text": [
      "              precision    recall  f1-score   support\n",
      "\n",
      "          No       0.88      0.80      0.84       742\n",
      "         Yes       0.55      0.70      0.62       267\n",
      "\n",
      "    accuracy                           0.77      1009\n",
      "   macro avg       0.72      0.75      0.73      1009\n",
      "weighted avg       0.80      0.77      0.78      1009\n",
      "\n"
     ]
    }
   ],
   "source": [
    "# Initialize the Random Forest classifier\n",
    "rf = RandomForestClassifier(n_estimators=100, max_depth=10, random_state=42)\n",
    "\n",
    "models_trained.append(rf)\n",
    "\n",
    "# Train the model on the training set\n",
    "rf.fit(X_train_balanced, y_train_balanced)\n",
    "\n",
    "# evaluate the model on the evaluation dataset\n",
    "y_pred = rf.predict(X_test)\n",
    "\n",
    "print(classification_report(y_true=y_test,y_pred=y_pred))"
   ]
  },
  {
   "cell_type": "markdown",
   "id": "df8e23e0",
   "metadata": {},
   "source": [
    "## Models comparison"
   ]
  },
  {
   "cell_type": "code",
   "execution_count": 63,
   "id": "6a358951",
   "metadata": {},
   "outputs": [],
   "source": [
    "metric=f1_score\n"
   ]
  },
  {
   "cell_type": "code",
   "execution_count": 64,
   "id": "00b9b694",
   "metadata": {},
   "outputs": [
    {
     "name": "stdout",
     "output_type": "stream",
     "text": [
      "['No' 'Yes']\n"
     ]
    }
   ],
   "source": [
    "unique_labels = np.unique(y_test)  # Get unique labels in y_test\n",
    "print(unique_labels)  # Print the unique labels to identify the valid labels\n"
   ]
  },
  {
   "cell_type": "code",
   "execution_count": 65,
   "id": "aee6668d",
   "metadata": {},
   "outputs": [],
   "source": [
    "# Update the pos_label value based on the valid labels\n",
    "pos_label = unique_labels[0]  # Set pos_label to the first valid label\n",
    "\n",
    "# Create a list of model names\n",
    "model_names = ['KNeighborsClassifier', 'AdaBoostClassifier', 'GradientBoostingClassifier', 'RandomForestClassifier']\n",
    "\n",
    "# Create lists to store the metrics\n",
    "accuracies = []\n",
    "precisions = []\n",
    "recalls = []\n",
    "f1_scores = []\n",
    "f2_scores = []\n"
   ]
  },
  {
   "cell_type": "code",
   "execution_count": 66,
   "id": "8c97bc9d",
   "metadata": {},
   "outputs": [],
   "source": [
    "# Calculate the metrics for each model\n",
    "for model in models_trained:\n",
    "    # Predict on the test data\n",
    "    y_pred = model.predict(X_test)\n",
    "\n",
    "    # Calculate the metrics\n",
    "    accuracy = accuracy_score(y_test, y_pred)\n",
    "    precision = precision_score(y_test, y_pred, pos_label=pos_label)\n",
    "    recall = recall_score(y_test, y_pred, pos_label=pos_label)\n",
    "    f1 = f1_score(y_test, y_pred, pos_label=pos_label)\n",
    "    f2 = fbeta_score(y_test, y_pred, beta=2, pos_label=pos_label)\n",
    "\n",
    "    # Append the metrics to the respective lists\n",
    "    accuracies.append(accuracy)\n",
    "    precisions.append(precision)\n",
    "    recalls.append(recall)\n",
    "    f1_scores.append(f1)\n",
    "    f2_scores.append(f2)\n"
   ]
  },
  {
   "cell_type": "code",
   "execution_count": 67,
   "id": "a2e3a246",
   "metadata": {},
   "outputs": [],
   "source": [
    "# Create a dictionary to store the metrics\n",
    "results = {\n",
    "    'Model': model_names,\n",
    "    'Accuracy': accuracies,\n",
    "    'Precision': precisions,\n",
    "    'Recall': recalls,\n",
    "    'F1 Score': f1_scores,\n",
    "    'F2 Score': f2_scores\n",
    "}"
   ]
  },
  {
   "cell_type": "code",
   "execution_count": 68,
   "id": "fc28d9a4",
   "metadata": {},
   "outputs": [],
   "source": [
    "# Create a DataFrame from the results dictionary\n",
    "results_df = pd.DataFrame(results)\n",
    "\n",
    "# Sort the DataFrame by each metric in descending order\n",
    "sorted_df = results_df.sort_values(by=['Accuracy', 'Precision', 'Recall', 'F1 Score', 'F2 Score'], ascending=False)"
   ]
  },
  {
   "cell_type": "code",
   "execution_count": 69,
   "id": "befeec14",
   "metadata": {
    "scrolled": true
   },
   "outputs": [
    {
     "data": {
      "text/html": [
       "<div>\n",
       "<style scoped>\n",
       "    .dataframe tbody tr th:only-of-type {\n",
       "        vertical-align: middle;\n",
       "    }\n",
       "\n",
       "    .dataframe tbody tr th {\n",
       "        vertical-align: top;\n",
       "    }\n",
       "\n",
       "    .dataframe thead th {\n",
       "        text-align: right;\n",
       "    }\n",
       "</style>\n",
       "<table border=\"1\" class=\"dataframe\">\n",
       "  <thead>\n",
       "    <tr style=\"text-align: right;\">\n",
       "      <th></th>\n",
       "      <th>Model</th>\n",
       "      <th>Accuracy</th>\n",
       "      <th>Precision</th>\n",
       "      <th>Recall</th>\n",
       "      <th>F1 Score</th>\n",
       "      <th>F2 Score</th>\n",
       "    </tr>\n",
       "  </thead>\n",
       "  <tbody>\n",
       "    <tr>\n",
       "      <th>2</th>\n",
       "      <td>GradientBoostingClassifier</td>\n",
       "      <td>0.782953</td>\n",
       "      <td>0.883994</td>\n",
       "      <td>0.811321</td>\n",
       "      <td>0.846100</td>\n",
       "      <td>0.824884</td>\n",
       "    </tr>\n",
       "    <tr>\n",
       "      <th>3</th>\n",
       "      <td>RandomForestClassifier</td>\n",
       "      <td>0.772052</td>\n",
       "      <td>0.882090</td>\n",
       "      <td>0.796496</td>\n",
       "      <td>0.837110</td>\n",
       "      <td>0.812259</td>\n",
       "    </tr>\n",
       "    <tr>\n",
       "      <th>1</th>\n",
       "      <td>AdaBoostClassifier</td>\n",
       "      <td>0.755203</td>\n",
       "      <td>0.902439</td>\n",
       "      <td>0.747978</td>\n",
       "      <td>0.817981</td>\n",
       "      <td>0.774491</td>\n",
       "    </tr>\n",
       "    <tr>\n",
       "      <th>0</th>\n",
       "      <td>KNeighborsClassifier</td>\n",
       "      <td>0.703667</td>\n",
       "      <td>0.889279</td>\n",
       "      <td>0.681941</td>\n",
       "      <td>0.771930</td>\n",
       "      <td>0.715295</td>\n",
       "    </tr>\n",
       "  </tbody>\n",
       "</table>\n",
       "</div>"
      ],
      "text/plain": [
       "                        Model  Accuracy  Precision    Recall  F1 Score  \\\n",
       "2  GradientBoostingClassifier  0.782953   0.883994  0.811321  0.846100   \n",
       "3      RandomForestClassifier  0.772052   0.882090  0.796496  0.837110   \n",
       "1          AdaBoostClassifier  0.755203   0.902439  0.747978  0.817981   \n",
       "0        KNeighborsClassifier  0.703667   0.889279  0.681941  0.771930   \n",
       "\n",
       "   F2 Score  \n",
       "2  0.824884  \n",
       "3  0.812259  \n",
       "1  0.774491  \n",
       "0  0.715295  "
      ]
     },
     "execution_count": 69,
     "metadata": {},
     "output_type": "execute_result"
    }
   ],
   "source": [
    "sorted_df"
   ]
  },
  {
   "cell_type": "markdown",
   "id": "a47ad2f6",
   "metadata": {},
   "source": [
    "## Hyperparameters tuning"
   ]
  },
  {
   "cell_type": "markdown",
   "id": "594793cd",
   "metadata": {},
   "source": [
    "Fine-tune the Top-k models (3 < k < 5) using a `GridSearchCV` (that is in sklearn.model_selection ) to find the best hyperparameters and achieve the maximum performance of each of the Top-k models, then compare them again to select the best one."
   ]
  },
  {
   "cell_type": "code",
   "execution_count": 70,
   "id": "0393a551",
   "metadata": {},
   "outputs": [],
   "source": [
    "# Define the parameter grids for each model\n",
    "param_grid_knn = {\n",
    "    'n_neighbors': [3, 5, 7],\n",
    "    'weights': ['uniform', 'distance']\n",
    "}\n"
   ]
  },
  {
   "cell_type": "code",
   "execution_count": 71,
   "id": "2ca33c80",
   "metadata": {},
   "outputs": [],
   "source": [
    "param_grid_ada = {\n",
    "    'n_estimators': [50, 100, 200],\n",
    "    'learning_rate': [0.1, 0.5, 1.0]\n",
    "}"
   ]
  },
  {
   "cell_type": "code",
   "execution_count": 72,
   "id": "f02c104f",
   "metadata": {},
   "outputs": [],
   "source": [
    "param_grid_gb = {\n",
    "    'n_estimators': [50, 100, 200],\n",
    "    'learning_rate': [0.1, 0.5, 1.0],\n",
    "    'max_depth': [3, 5, 7]\n",
    "}"
   ]
  },
  {
   "cell_type": "code",
   "execution_count": 73,
   "id": "a7336439",
   "metadata": {},
   "outputs": [],
   "source": [
    "param_grid_rf = {\n",
    "    'n_estimators': [50, 100, 200],\n",
    "    'max_depth': [5, 10, 15]\n",
    "}"
   ]
  },
  {
   "cell_type": "code",
   "execution_count": 74,
   "id": "5e286ebb",
   "metadata": {},
   "outputs": [],
   "source": [
    "# Create a list of tuples containing the models and their respective parameter grids\n",
    "models_params = [\n",
    "    (knn, param_grid_knn),\n",
    "    (ada, param_grid_ada),\n",
    "    (gb, param_grid_gb),\n",
    "    (rf, param_grid_rf)\n",
    "]\n"
   ]
  },
  {
   "cell_type": "code",
   "execution_count": 75,
   "id": "8afe34ab",
   "metadata": {},
   "outputs": [
    {
     "name": "stdout",
     "output_type": "stream",
     "text": [
      "Best Hyperparameters - KNeighborsClassifier:\n",
      "{'n_neighbors': 3, 'weights': 'uniform'}\n",
      "F1 score - KNeighborsClassifier: 0.5438066465256797\n",
      "\n",
      "Best Hyperparameters - AdaBoostClassifier:\n",
      "{'learning_rate': 0.1, 'n_estimators': 50}\n",
      "F1 score - AdaBoostClassifier: 0.6233766233766234\n",
      "\n",
      "Best Hyperparameters - GradientBoostingClassifier:\n",
      "{'learning_rate': 0.1, 'max_depth': 3, 'n_estimators': 50}\n",
      "F1 score - GradientBoostingClassifier: 0.6357827476038339\n",
      "\n",
      "Best Hyperparameters - RandomForestClassifier:\n",
      "{'max_depth': 5, 'n_estimators': 50}\n",
      "F1 score - RandomForestClassifier: 0.6378539493293591\n",
      "\n"
     ]
    }
   ],
   "source": [
    "# Perform hyperparameter tuning for each model\n",
    "best_models = []\n",
    "f1_scores = []\n",
    "\n",
    "for model, param_grid in models_params:\n",
    "    grid_search = GridSearchCV(model, param_grid=param_grid, scoring='f1', cv=5)\n",
    "    grid_search.fit(X_train_balanced, y_train_balanced)\n",
    "    \n",
    "    best_params = grid_search.best_params_\n",
    "    best_model = grid_search.best_estimator_\n",
    "    best_models.append(best_model)\n",
    "    \n",
    "    y_pred = best_model.predict(X_test)\n",
    "    f1 = f1_score(y_test, y_pred, pos_label='Yes')\n",
    "    f1_scores.append(f1)\n",
    "    \n",
    "    print(f\"Best Hyperparameters - {type(model).__name__}:\")\n",
    "    print(best_params)\n",
    "    print(f\"F1 score - {type(model).__name__}: {f1}\")\n",
    "    print()"
   ]
  },
  {
   "cell_type": "code",
   "execution_count": 76,
   "id": "e8e87ea6",
   "metadata": {
    "scrolled": true
   },
   "outputs": [
    {
     "name": "stdout",
     "output_type": "stream",
     "text": [
      "Models Comparison:\n"
     ]
    },
    {
     "data": {
      "text/html": [
       "<div>\n",
       "<style scoped>\n",
       "    .dataframe tbody tr th:only-of-type {\n",
       "        vertical-align: middle;\n",
       "    }\n",
       "\n",
       "    .dataframe tbody tr th {\n",
       "        vertical-align: top;\n",
       "    }\n",
       "\n",
       "    .dataframe thead th {\n",
       "        text-align: right;\n",
       "    }\n",
       "</style>\n",
       "<table border=\"1\" class=\"dataframe\">\n",
       "  <thead>\n",
       "    <tr style=\"text-align: right;\">\n",
       "      <th></th>\n",
       "      <th>Model_Name</th>\n",
       "      <th>F1_Score</th>\n",
       "    </tr>\n",
       "  </thead>\n",
       "  <tbody>\n",
       "    <tr>\n",
       "      <th>3</th>\n",
       "      <td>RandomForestClassifier</td>\n",
       "      <td>0.637854</td>\n",
       "    </tr>\n",
       "    <tr>\n",
       "      <th>2</th>\n",
       "      <td>GradientBoostingClassifier</td>\n",
       "      <td>0.635783</td>\n",
       "    </tr>\n",
       "    <tr>\n",
       "      <th>1</th>\n",
       "      <td>AdaBoostClassifier</td>\n",
       "      <td>0.623377</td>\n",
       "    </tr>\n",
       "    <tr>\n",
       "      <th>0</th>\n",
       "      <td>KNeighborsClassifier</td>\n",
       "      <td>0.543807</td>\n",
       "    </tr>\n",
       "  </tbody>\n",
       "</table>\n",
       "</div>"
      ],
      "text/plain": [
       "                   Model_Name  F1_Score\n",
       "3      RandomForestClassifier  0.637854\n",
       "2  GradientBoostingClassifier  0.635783\n",
       "1          AdaBoostClassifier  0.623377\n",
       "0        KNeighborsClassifier  0.543807"
      ]
     },
     "execution_count": 76,
     "metadata": {},
     "output_type": "execute_result"
    }
   ],
   "source": [
    "# Compare the models based on F1 scores\n",
    "model_names = ['KNeighborsClassifier', 'AdaBoostClassifier', 'GradientBoostingClassifier', 'RandomForestClassifier']\n",
    "model_comparison = pd.DataFrame({'Model_Name': model_names, 'F1_Score': f1_scores})\n",
    "model_comparison = model_comparison.sort_values(by='F1_Score', ascending=False)\n",
    "\n",
    "print(\"Models Comparison:\")\n",
    "model_comparison"
   ]
  },
  {
   "cell_type": "markdown",
   "id": "43cc6a26",
   "metadata": {},
   "source": [
    "# Model Selection vs. Hyperparameter Tuning\n",
    "\n",
    "In the given scenario, the model selection process resulted in a model, GradientBoostingClassifier, that performed better than the other models even without hyperparameter tuning. This suggests that the initial default hyperparameters of the GradientBoostingClassifier were already well-suited for the problem at hand. We will briefly discuss the hyperparameter tuning process and why model selection may be preferred in this case.\n",
    "\n",
    "## Hyperparameter Tuning\n",
    "Hyperparameter tuning is a crucial step in optimizing the performance of machine learning models. It involves searching for the best combination of hyperparameter values to maximize a model's performance on a given dataset. In the provided code, I used the GridSearchCV function to perform hyperparameter tuning for four different models: KNeighborsClassifier, AdaBoostClassifier, GradientBoostingClassifier, and RandomForestClassifier.\n",
    "\n",
    "The code defined specific parameter grids for each model, containing different values for relevant hyperparameters. The GridSearchCV function exhaustively searched through all the parameter combinations within each grid and evaluated each combination using the F1 score as the scoring metric. The best model hyperparameters were determined based on the highest F1 score achieved during cross-validation.\n",
    "\n",
    "## Model Selection\n",
    "In this particular case, the model selection process proved to be more effective than hyperparameter tuning. The GradientBoostingClassifier, with its default hyperparameters, outperformed the other models in terms of accuracy, precision, recall, F1 score, and F2 score. This indicates that the default hyperparameters of the GradientBoostingClassifier were already well-suited for the given problem and dataset.\n",
    "\n",
    "There are several reasons why model selection may be preferred over hyperparameter tuning:\n",
    "\n",
    "1. Performance with default hyperparameters: If a model performs well with its default hyperparameters, there may be limited room for improvement through hyperparameter tuning. In this case, the GradientBoostingClassifier already achieved the desired performance without the need for further fine-tuning.\n",
    "\n",
    "2. Computational resources and time constraints: Hyperparameter tuning can be computationally expensive, especially when exploring a large hyperparameter search space. Conducting an extensive search with cross-validation for multiple models can require significant computational resources and time. Model selection, on the other hand, allows for a more efficient use of resources.\n",
    "\n",
    "3. Interpretability and simplicity: Hyperparameter tuning can lead to more complex models with intricate combinations of hyperparameters. These models may be harder to interpret and maintain. Choosing a simpler model through model selection can offer better interpretability and ease of deployment.\n",
    "\n",
    "4. Prior knowledge and domain expertise: If prior research or domain knowledge suggests that a particular model or family of models tends to perform well on similar problems, it may be reasonable to choose that model without extensive hyperparameter tuning. This approach saves time and effort, relying on the knowledge and expertise available.\n",
    "\n",
    "In conclusion, while hyperparameter tuning is an important step in optimizing model performance, there are scenarios where model selection may be preferred. If a model already performs well with its default hyperparameters, if there are resource or time constraints, if interpretability and simplicity are valued, or if there is prior knowledge indicating the suitability of a specific model, model selection can be a practical and effective approach. It is essential to consider the specific context, requirements, and constraints when deciding between hyperparameter tuning and model selection."
   ]
  },
  {
   "cell_type": "markdown",
   "id": "d02ed3fc",
   "metadata": {},
   "source": [
    "## Export key components\n",
    "Here is the section to **export** the important ML objects that will be use to develop an app: *Encoder, Scaler, ColumnTransformer, Model, Pipeline, etc*."
   ]
  },
  {
   "cell_type": "code",
   "execution_count": 77,
   "id": "eff4fd49",
   "metadata": {},
   "outputs": [],
   "source": [
    "# Create a dictionary to store the key components\n",
    "key_components = {\n",
    "    'model': model,\n",
    "    'evaluation_results': results,\n",
    "}\n",
    "\n",
    "# Specify the file path to save the dictionary\n",
    "file_path = 'C:/Users/_name_/Desktop/Projects/key_components.pkl'\n",
    "\n",
    "# Save the dictionary as a file using pickle\n",
    "with open(file_path, 'wb') as file:\n",
    "    pickle.dump(key_components, file)\n",
    "\n",
    "    key_components\n",
    "# Print a message to confirm the successful saving of the file\n",
    "print(f\"Key components saved as {file_path}\")"
   ]
  },
  {
   "cell_type": "markdown",
   "id": "cc27d86b",
   "metadata": {},
   "source": [
    "## Predict on Testset"
   ]
  },
  {
   "cell_type": "code",
   "execution_count": 78,
   "id": "229d0c01",
   "metadata": {},
   "outputs": [],
   "source": [
    "X_test=pd.read_csv('Telco-churn-second-2000.csv')"
   ]
  },
  {
   "cell_type": "code",
   "execution_count": 79,
   "id": "d3b7b5e8",
   "metadata": {},
   "outputs": [
    {
     "data": {
      "text/plain": [
       "customerID          0\n",
       "gender              0\n",
       "SeniorCitizen       0\n",
       "Partner             0\n",
       "Dependents          0\n",
       "tenure              0\n",
       "PhoneService        0\n",
       "MultipleLines       0\n",
       "InternetService     0\n",
       "OnlineSecurity      0\n",
       "OnlineBackup        0\n",
       "DeviceProtection    0\n",
       "TechSupport         0\n",
       "StreamingTV         0\n",
       "StreamingMovies     0\n",
       "Contract            0\n",
       "PaperlessBilling    0\n",
       "PaymentMethod       0\n",
       "MonthlyCharges      0\n",
       "TotalCharges        0\n",
       "dtype: int64"
      ]
     },
     "execution_count": 79,
     "metadata": {},
     "output_type": "execute_result"
    }
   ],
   "source": [
    "X_test.isnull().sum()"
   ]
  },
  {
   "cell_type": "code",
   "execution_count": 80,
   "id": "133859df",
   "metadata": {},
   "outputs": [
    {
     "data": {
      "text/plain": [
       "array(['No', 'No internet service', 'Yes'], dtype=object)"
      ]
     },
     "execution_count": 80,
     "metadata": {},
     "output_type": "execute_result"
    }
   ],
   "source": [
    "X_test['OnlineBackup'].unique()"
   ]
  },
  {
   "cell_type": "code",
   "execution_count": 81,
   "id": "273bdde1",
   "metadata": {},
   "outputs": [
    {
     "name": "stdout",
     "output_type": "stream",
     "text": [
      "<class 'pandas.core.frame.DataFrame'>\n",
      "RangeIndex: 2000 entries, 0 to 1999\n",
      "Data columns (total 20 columns):\n",
      " #   Column            Non-Null Count  Dtype  \n",
      "---  ------            --------------  -----  \n",
      " 0   customerID        2000 non-null   object \n",
      " 1   gender            2000 non-null   object \n",
      " 2   SeniorCitizen     2000 non-null   int64  \n",
      " 3   Partner           2000 non-null   object \n",
      " 4   Dependents        2000 non-null   object \n",
      " 5   tenure            2000 non-null   int64  \n",
      " 6   PhoneService      2000 non-null   object \n",
      " 7   MultipleLines     2000 non-null   object \n",
      " 8   InternetService   2000 non-null   object \n",
      " 9   OnlineSecurity    2000 non-null   object \n",
      " 10  OnlineBackup      2000 non-null   object \n",
      " 11  DeviceProtection  2000 non-null   object \n",
      " 12  TechSupport       2000 non-null   object \n",
      " 13  StreamingTV       2000 non-null   object \n",
      " 14  StreamingMovies   2000 non-null   object \n",
      " 15  Contract          2000 non-null   object \n",
      " 16  PaperlessBilling  2000 non-null   object \n",
      " 17  PaymentMethod     2000 non-null   object \n",
      " 18  MonthlyCharges    2000 non-null   float64\n",
      " 19  TotalCharges      2000 non-null   object \n",
      "dtypes: float64(1), int64(2), object(17)\n",
      "memory usage: 312.6+ KB\n"
     ]
    }
   ],
   "source": [
    "X_test.info()"
   ]
  },
  {
   "cell_type": "markdown",
   "id": "49811dc7",
   "metadata": {},
   "source": [
    "### Cleaning"
   ]
  },
  {
   "cell_type": "code",
   "execution_count": 82,
   "id": "e1868278",
   "metadata": {},
   "outputs": [],
   "source": [
    "X_test.drop(columns={'customerID','gender'}, inplace=True)"
   ]
  },
  {
   "cell_type": "code",
   "execution_count": 83,
   "id": "30d17c80",
   "metadata": {},
   "outputs": [],
   "source": [
    "categorical_columns = ['SeniorCitizen', 'Partner', 'Dependents', 'PhoneService', 'MultipleLines',\n",
    "                       'InternetService', 'OnlineSecurity', 'OnlineBackup', 'DeviceProtection', 'TechSupport',\n",
    "                       'StreamingTV', 'StreamingMovies', 'Contract', 'PaperlessBilling', 'PaymentMethod']\n",
    "\n",
    "# Define a dictionary to map the values you want to replace\n",
    "value_mapping = {\n",
    "    'No internet service': 'No'\n",
    "}\n",
    "\n",
    "# Transform the relevant columns\n",
    "for col in categorical_columns:\n",
    "    if col in X_test.columns:\n",
    "        X_test[col].replace(value_mapping, inplace=True)"
   ]
  },
  {
   "cell_type": "code",
   "execution_count": 84,
   "id": "485aa4d6",
   "metadata": {},
   "outputs": [],
   "source": [
    "# change datatypes to numeric\n",
    "X_test['TotalCharges'] = pd.to_numeric(X_test['TotalCharges'], errors='coerce')"
   ]
  },
  {
   "cell_type": "markdown",
   "id": "d52c4ee3",
   "metadata": {},
   "source": [
    "### Encoding"
   ]
  },
  {
   "cell_type": "code",
   "execution_count": 85,
   "id": "49a27bc6",
   "metadata": {},
   "outputs": [],
   "source": [
    "# Assuming X_test is your testing set\n",
    "numeric_cols = ['tenure', 'MonthlyCharges', 'TotalCharges']\n",
    "categorical_cols = ['SeniorCitizen', 'Partner', 'Dependents', 'PhoneService', 'MultipleLines',\n",
    "                       'InternetService', 'OnlineSecurity', 'OnlineBackup', 'DeviceProtection', 'TechSupport',\n",
    "                       'StreamingTV', 'StreamingMovies', 'Contract', 'PaperlessBilling', 'PaymentMethod']\n",
    "\n",
    "# Impute missing values in the numeric columns using mean imputation\n",
    "imputer = SimpleImputer(strategy='mean')\n",
    "X_test[numeric_cols] = imputer.fit_transform(X_test[numeric_cols])\n",
    "\n",
    "# One-hot encode the categorical columns in X_test\n",
    "encoder = OneHotEncoder(sparse=False, drop='first')  # Use 'drop' to avoid multicollinearity\n",
    "X_test_encoded = pd.DataFrame(encoder.fit_transform(X_test[categorical_cols]))\n",
    "\n",
    "# Reset the column names after one-hot encoding\n",
    "X_test_encoded.columns = encoder.get_feature_names(categorical_cols)\n",
    "\n",
    "# Drop the original categorical columns from X_test\n",
    "X_test = X_test.drop(columns=categorical_cols)\n",
    "\n",
    "# Concatenate X_test_encoded with the remaining numeric columns in X_test\n",
    "X_test = pd.concat([X_test, X_test_encoded], axis=1)"
   ]
  },
  {
   "cell_type": "markdown",
   "id": "ff2774fc",
   "metadata": {},
   "source": [
    "### predict"
   ]
  },
  {
   "cell_type": "code",
   "execution_count": 86,
   "id": "76a4b9ab",
   "metadata": {},
   "outputs": [],
   "source": [
    "\n",
    "# Specify the file path of the saved key components\n",
    "file_path = 'C:/Users/_name_/Desktop/Projects/key_components.pkl'\n",
    "\n",
    "# Load the key components from the file\n",
    "with open(file_path, 'rb') as file:\n",
    "    key_components = pickle.load(file)\n",
    "\n",
    "# Access the trained model from the loaded key components\n",
    "gb_model = key_components['model']\n"
   ]
  },
  {
   "cell_type": "code",
   "execution_count": 87,
   "id": "de02e1dd",
   "metadata": {},
   "outputs": [],
   "source": [
    "# Assuming X_test is your testing set\n",
    "predictions = gb_model.predict(X_test)\n"
   ]
  },
  {
   "cell_type": "code",
   "execution_count": 88,
   "id": "25e7360e",
   "metadata": {},
   "outputs": [
    {
     "data": {
      "text/html": [
       "<div>\n",
       "<style scoped>\n",
       "    .dataframe tbody tr th:only-of-type {\n",
       "        vertical-align: middle;\n",
       "    }\n",
       "\n",
       "    .dataframe tbody tr th {\n",
       "        vertical-align: top;\n",
       "    }\n",
       "\n",
       "    .dataframe thead th {\n",
       "        text-align: right;\n",
       "    }\n",
       "</style>\n",
       "<table border=\"1\" class=\"dataframe\">\n",
       "  <thead>\n",
       "    <tr style=\"text-align: right;\">\n",
       "      <th></th>\n",
       "      <th>tenure</th>\n",
       "      <th>MonthlyCharges</th>\n",
       "      <th>TotalCharges</th>\n",
       "      <th>SeniorCitizen_1</th>\n",
       "      <th>Partner_Yes</th>\n",
       "      <th>Dependents_Yes</th>\n",
       "      <th>PhoneService_Yes</th>\n",
       "      <th>MultipleLines_No phone service</th>\n",
       "      <th>MultipleLines_Yes</th>\n",
       "      <th>InternetService_Fiber optic</th>\n",
       "      <th>...</th>\n",
       "      <th>TechSupport_Yes</th>\n",
       "      <th>StreamingTV_Yes</th>\n",
       "      <th>StreamingMovies_Yes</th>\n",
       "      <th>Contract_One year</th>\n",
       "      <th>Contract_Two year</th>\n",
       "      <th>PaperlessBilling_Yes</th>\n",
       "      <th>PaymentMethod_Credit card (automatic)</th>\n",
       "      <th>PaymentMethod_Electronic check</th>\n",
       "      <th>PaymentMethod_Mailed check</th>\n",
       "      <th>Churn</th>\n",
       "    </tr>\n",
       "  </thead>\n",
       "  <tbody>\n",
       "    <tr>\n",
       "      <th>0</th>\n",
       "      <td>12.0</td>\n",
       "      <td>84.45</td>\n",
       "      <td>1059.55</td>\n",
       "      <td>0.0</td>\n",
       "      <td>0.0</td>\n",
       "      <td>0.0</td>\n",
       "      <td>1.0</td>\n",
       "      <td>0.0</td>\n",
       "      <td>1.0</td>\n",
       "      <td>1.0</td>\n",
       "      <td>...</td>\n",
       "      <td>0.0</td>\n",
       "      <td>1.0</td>\n",
       "      <td>0.0</td>\n",
       "      <td>0.0</td>\n",
       "      <td>0.0</td>\n",
       "      <td>1.0</td>\n",
       "      <td>0.0</td>\n",
       "      <td>1.0</td>\n",
       "      <td>0.0</td>\n",
       "      <td>No</td>\n",
       "    </tr>\n",
       "    <tr>\n",
       "      <th>1</th>\n",
       "      <td>9.0</td>\n",
       "      <td>20.40</td>\n",
       "      <td>181.80</td>\n",
       "      <td>0.0</td>\n",
       "      <td>0.0</td>\n",
       "      <td>0.0</td>\n",
       "      <td>1.0</td>\n",
       "      <td>0.0</td>\n",
       "      <td>0.0</td>\n",
       "      <td>0.0</td>\n",
       "      <td>...</td>\n",
       "      <td>0.0</td>\n",
       "      <td>0.0</td>\n",
       "      <td>0.0</td>\n",
       "      <td>0.0</td>\n",
       "      <td>0.0</td>\n",
       "      <td>0.0</td>\n",
       "      <td>0.0</td>\n",
       "      <td>0.0</td>\n",
       "      <td>1.0</td>\n",
       "      <td>No</td>\n",
       "    </tr>\n",
       "    <tr>\n",
       "      <th>2</th>\n",
       "      <td>27.0</td>\n",
       "      <td>81.70</td>\n",
       "      <td>2212.55</td>\n",
       "      <td>0.0</td>\n",
       "      <td>0.0</td>\n",
       "      <td>0.0</td>\n",
       "      <td>1.0</td>\n",
       "      <td>0.0</td>\n",
       "      <td>0.0</td>\n",
       "      <td>0.0</td>\n",
       "      <td>...</td>\n",
       "      <td>1.0</td>\n",
       "      <td>1.0</td>\n",
       "      <td>1.0</td>\n",
       "      <td>1.0</td>\n",
       "      <td>0.0</td>\n",
       "      <td>0.0</td>\n",
       "      <td>0.0</td>\n",
       "      <td>1.0</td>\n",
       "      <td>0.0</td>\n",
       "      <td>No</td>\n",
       "    </tr>\n",
       "    <tr>\n",
       "      <th>3</th>\n",
       "      <td>27.0</td>\n",
       "      <td>79.50</td>\n",
       "      <td>2180.55</td>\n",
       "      <td>0.0</td>\n",
       "      <td>0.0</td>\n",
       "      <td>1.0</td>\n",
       "      <td>1.0</td>\n",
       "      <td>0.0</td>\n",
       "      <td>1.0</td>\n",
       "      <td>1.0</td>\n",
       "      <td>...</td>\n",
       "      <td>1.0</td>\n",
       "      <td>0.0</td>\n",
       "      <td>0.0</td>\n",
       "      <td>0.0</td>\n",
       "      <td>0.0</td>\n",
       "      <td>1.0</td>\n",
       "      <td>0.0</td>\n",
       "      <td>1.0</td>\n",
       "      <td>0.0</td>\n",
       "      <td>No</td>\n",
       "    </tr>\n",
       "    <tr>\n",
       "      <th>4</th>\n",
       "      <td>1.0</td>\n",
       "      <td>89.15</td>\n",
       "      <td>89.15</td>\n",
       "      <td>0.0</td>\n",
       "      <td>1.0</td>\n",
       "      <td>1.0</td>\n",
       "      <td>1.0</td>\n",
       "      <td>0.0</td>\n",
       "      <td>0.0</td>\n",
       "      <td>1.0</td>\n",
       "      <td>...</td>\n",
       "      <td>0.0</td>\n",
       "      <td>1.0</td>\n",
       "      <td>1.0</td>\n",
       "      <td>0.0</td>\n",
       "      <td>0.0</td>\n",
       "      <td>0.0</td>\n",
       "      <td>0.0</td>\n",
       "      <td>0.0</td>\n",
       "      <td>1.0</td>\n",
       "      <td>No</td>\n",
       "    </tr>\n",
       "  </tbody>\n",
       "</table>\n",
       "<p>5 rows × 24 columns</p>\n",
       "</div>"
      ],
      "text/plain": [
       "   tenure  MonthlyCharges  TotalCharges  SeniorCitizen_1  Partner_Yes  \\\n",
       "0    12.0           84.45       1059.55              0.0          0.0   \n",
       "1     9.0           20.40        181.80              0.0          0.0   \n",
       "2    27.0           81.70       2212.55              0.0          0.0   \n",
       "3    27.0           79.50       2180.55              0.0          0.0   \n",
       "4     1.0           89.15         89.15              0.0          1.0   \n",
       "\n",
       "   Dependents_Yes  PhoneService_Yes  MultipleLines_No phone service  \\\n",
       "0             0.0               1.0                             0.0   \n",
       "1             0.0               1.0                             0.0   \n",
       "2             0.0               1.0                             0.0   \n",
       "3             1.0               1.0                             0.0   \n",
       "4             1.0               1.0                             0.0   \n",
       "\n",
       "   MultipleLines_Yes  InternetService_Fiber optic  ...  TechSupport_Yes  \\\n",
       "0                1.0                          1.0  ...              0.0   \n",
       "1                0.0                          0.0  ...              0.0   \n",
       "2                0.0                          0.0  ...              1.0   \n",
       "3                1.0                          1.0  ...              1.0   \n",
       "4                0.0                          1.0  ...              0.0   \n",
       "\n",
       "   StreamingTV_Yes  StreamingMovies_Yes  Contract_One year  Contract_Two year  \\\n",
       "0              1.0                  0.0                0.0                0.0   \n",
       "1              0.0                  0.0                0.0                0.0   \n",
       "2              1.0                  1.0                1.0                0.0   \n",
       "3              0.0                  0.0                0.0                0.0   \n",
       "4              1.0                  1.0                0.0                0.0   \n",
       "\n",
       "   PaperlessBilling_Yes  PaymentMethod_Credit card (automatic)  \\\n",
       "0                   1.0                                    0.0   \n",
       "1                   0.0                                    0.0   \n",
       "2                   0.0                                    0.0   \n",
       "3                   1.0                                    0.0   \n",
       "4                   0.0                                    0.0   \n",
       "\n",
       "   PaymentMethod_Electronic check  PaymentMethod_Mailed check  Churn  \n",
       "0                             1.0                         0.0     No  \n",
       "1                             0.0                         1.0     No  \n",
       "2                             1.0                         0.0     No  \n",
       "3                             1.0                         0.0     No  \n",
       "4                             0.0                         1.0     No  \n",
       "\n",
       "[5 rows x 24 columns]"
      ]
     },
     "execution_count": 88,
     "metadata": {},
     "output_type": "execute_result"
    }
   ],
   "source": [
    "# Create a new DataFrame to store the predictions\n",
    "predictions_df = pd.DataFrame({'Churn': predictions})\n",
    "\n",
    "# Concatenate the predictions DataFrame with the original features DataFrame (X_test)\n",
    "result_df = pd.concat([X_test, predictions_df], axis=1)\n",
    "\n",
    "# View the result DataFrame with the predictions\n",
    "result_df.head()"
   ]
  },
  {
   "cell_type": "code",
   "execution_count": 89,
   "id": "4f7980d4",
   "metadata": {},
   "outputs": [
    {
     "data": {
      "image/png": "[encoded data removed]",
      "text/plain": [
       "<Figure size 432x288 with 1 Axes>"
      ]
     },
     "metadata": {
      "needs_background": "light"
     },
     "output_type": "display_data"
    }
   ],
   "source": [
    "result_df['Churn'].value_counts().plot(kind='bar',title='Barplot of Churn',fontsize=14);"
   ]
  },
  {
   "cell_type": "markdown",
   "id": "813cf347",
   "metadata": {},
   "source": [
    "# Hypothesis Testing"
   ]
  },
  {
   "cell_type": "code",
   "execution_count": 90,
   "id": "c387578f",
   "metadata": {},
   "outputs": [
    {
     "name": "stdout",
     "output_type": "stream",
     "text": [
      "Reject the null hypothesis. There is a significant relationship between SeniorCitizen and Churn.\n",
      "Reject the null hypothesis. There is a significant relationship between Partner and Churn.\n",
      "Reject the null hypothesis. There is a significant relationship between Dependents and Churn.\n",
      "Reject the null hypothesis. There is a significant relationship between tenure and Churn.\n",
      "Fail to reject the null hypothesis. There is no significant relationship between PhoneService and Churn.\n",
      "Reject the null hypothesis. There is a significant relationship between MultipleLines and Churn.\n",
      "Reject the null hypothesis. There is a significant relationship between InternetService and Churn.\n",
      "Reject the null hypothesis. There is a significant relationship between OnlineSecurity and Churn.\n",
      "Reject the null hypothesis. There is a significant relationship between OnlineBackup and Churn.\n",
      "Reject the null hypothesis. There is a significant relationship between DeviceProtection and Churn.\n",
      "Reject the null hypothesis. There is a significant relationship between TechSupport and Churn.\n",
      "Reject the null hypothesis. There is a significant relationship between StreamingTV and Churn.\n",
      "Reject the null hypothesis. There is a significant relationship between StreamingMovies and Churn.\n",
      "Reject the null hypothesis. There is a significant relationship between Contract and Churn.\n",
      "Reject the null hypothesis. There is a significant relationship between PaperlessBilling and Churn.\n",
      "Reject the null hypothesis. There is a significant relationship between PaymentMethod and Churn.\n",
      "Reject the null hypothesis. There is a significant relationship between MonthlyCharges and Churn.\n",
      "Fail to reject the null hypothesis. There is no significant relationship between TotalCharges and Churn.\n",
      "Reject the null hypothesis. There is a significant relationship between Churn and Churn.\n",
      "\n",
      "General Conclusion: There is a significant relationship between at least one customer attribute and Churn.\n"
     ]
    }
   ],
   "source": [
    "\n",
    "import scipy.stats as stats\n",
    "# Select the variables of interest\n",
    "variables_of_interest = ['SeniorCitizen', 'Partner', 'Dependents', 'tenure', 'PhoneService', 'MultipleLines',\n",
    "                         'InternetService', 'OnlineSecurity', 'OnlineBackup', 'DeviceProtection', 'TechSupport',\n",
    "                         'StreamingTV', 'StreamingMovies', 'Contract', 'PaperlessBilling', 'PaymentMethod',\n",
    "                         'MonthlyCharges', 'TotalCharges', 'Churn']\n",
    "\n",
    "# Filter the dataset for the selected variables\n",
    "filtered_df = df[variables_of_interest]\n",
    "\n",
    "# Initialize lists to store the results\n",
    "results = []\n",
    "\n",
    "# Perform hypothesis tests for each variable\n",
    "alpha = 0.05\n",
    "\n",
    "for variable in variables_of_interest:\n",
    "    if filtered_df[variable].dtype == 'object':\n",
    "        # Perform chi-square test of independence for categorical variables\n",
    "        contingency_table = pd.crosstab(filtered_df[variable], filtered_df['Churn'])\n",
    "        chi2, p_value, _, _ = stats.chi2_contingency(contingency_table)\n",
    "        \n",
    "        if p_value < alpha:\n",
    "            result = \"Reject the null hypothesis. There is a significant relationship between \" + variable + \" and Churn.\"\n",
    "        else:\n",
    "            result = \"Fail to reject the null hypothesis. There is no significant relationship between \" + variable + \" and Churn.\"\n",
    "    else:\n",
    "        # Perform t-test for numerical variables\n",
    "        churn_yes = filtered_df[filtered_df['Churn'] == 'Yes'][variable]\n",
    "        churn_no = filtered_df[filtered_df['Churn'] == 'No'][variable]\n",
    "        \n",
    "        t_statistic, p_value = stats.ttest_ind(churn_yes, churn_no)\n",
    "        \n",
    "        if p_value < alpha:\n",
    "            result = \"Reject the null hypothesis. There is a significant relationship between \" + variable + \" and Churn.\"\n",
    "        else:\n",
    "            result = \"Fail to reject the null hypothesis. There is no significant relationship between \" + variable + \" and Churn.\"\n",
    "    \n",
    "    results.append(result)\n",
    "\n",
    "# Generate a general conclusion\n",
    "if any(\"Reject\" in result for result in results):\n",
    "    conclusion = \"There is a significant relationship between at least one customer attribute and Churn.\"\n",
    "else:\n",
    "    conclusion = \"There is no significant relationship between any customer attribute and Churn.\"\n",
    "\n",
    "# Print the results and the general conclusion\n",
    "for result in results:\n",
    "    print(result)\n",
    "\n",
    "print(\"\\nGeneral Conclusion:\", conclusion)\n",
    "\n"
   ]
  },
  {
   "cell_type": "markdown",
   "id": "b65994b8",
   "metadata": {},
   "source": [
    "# Questions\n",
    "                                                                                                                             "
   ]
  },
  {
   "cell_type": "markdown",
   "id": "8c0163e4",
   "metadata": {},
   "source": [
    "### 1. Which are the key contributors of customer churn?"
   ]
  },
  {
   "cell_type": "code",
   "execution_count": 91,
   "id": "feee8637",
   "metadata": {
    "scrolled": true
   },
   "outputs": [
    {
     "data": {
      "image/png": "[encoded data removed]",
      "text/plain": [
       "<Figure size 720x432 with 1 Axes>"
      ]
     },
     "metadata": {
      "needs_background": "light"
     },
     "output_type": "display_data"
    }
   ],
   "source": [
    "# Extract feature importances\n",
    "importances = rf.feature_importances_\n",
    "\n",
    "# Sort features based on importance scores\n",
    "sorted_indices = importances.argsort()[::1]\n",
    "sorted_features = X_train_balanced.columns[sorted_indices]\n",
    "sorted_scores = importances[sorted_indices]\n",
    "\n",
    "# Visualize feature importances\n",
    "plt.figure(figsize=(10, 6))\n",
    "plt.barh(range(len(sorted_features)), sorted_scores, align='center')\n",
    "plt.yticks(range(len(sorted_features)), sorted_features)\n",
    "plt.xlabel('Feature Importance')\n",
    "plt.ylabel('Features')\n",
    "plt.title('Feature Importance Analysis')\n",
    "plt.show()"
   ]
  },
  {
   "cell_type": "markdown",
   "id": "55400d57",
   "metadata": {},
   "source": [
    "The **top 5 key indicators** of customer churn from this dataset are:\n",
    "1. Tenure \n",
    "2. Monthly Charges\n",
    "3. Fiber optic ISP(Internet Service Provider\n",
    "4. Customers who work for 2 year contracts\n",
    "5. Total Charges"
   ]
  },
  {
   "cell_type": "markdown",
   "id": "80172bf7",
   "metadata": {},
   "source": [
    "### 2.Is there any correlation between the type of internet service provider and customer churn?"
   ]
  },
  {
   "cell_type": "code",
   "execution_count": 92,
   "id": "c62beca1",
   "metadata": {},
   "outputs": [
    {
     "data": {
      "image/png": "[encoded data removed]",
      "text/plain": [
       "<Figure size 432x288 with 1 Axes>"
      ]
     },
     "metadata": {
      "needs_background": "light"
     },
     "output_type": "display_data"
    }
   ],
   "source": [
    "churn_rates=df.groupby('InternetService')['Churn'].value_counts(normalize=True).unstack()\n",
    "churn_rates.plot(kind='barh', stacked=True)\n",
    "plt.xlabel('Churn Rate')\n",
    "plt.ylabel('Internet Service')\n",
    "plt.title('Churn Rate by Internet Service');"
   ]
  },
  {
   "cell_type": "markdown",
   "id": "0df7590b",
   "metadata": {},
   "source": [
    "More customers who use **fiber optic** as their internet service provider have churned compared to customers from other internet service providers."
   ]
  },
  {
   "cell_type": "markdown",
   "id": "6c758482",
   "metadata": {},
   "source": [
    "### 3. What is the relationship between contract terms and customer churn?"
   ]
  },
  {
   "cell_type": "code",
   "execution_count": 93,
   "id": "0b11d245",
   "metadata": {},
   "outputs": [
    {
     "data": {
      "image/png": "[encoded data removed]",
      "text/plain": [
       "<Figure size 576x432 with 1 Axes>"
      ]
     },
     "metadata": {
      "needs_background": "light"
     },
     "output_type": "display_data"
    }
   ],
   "source": [
    "contract_terms = ['Month-to-month', 'One year', 'Two year']\n",
    "\n",
    "# Filter the dataset for the selected contract terms\n",
    "filtered_df = df[df['Contract'].isin(contract_terms)]\n",
    "\n",
    "colors= ['#FFC107', '#4CAF50']\n",
    "# Create a count plot of customer churn based on contract terms\n",
    "plt.figure(figsize=(8, 6))\n",
    "sns.countplot(x='Contract', hue='Churn', data=filtered_df, palette=colors)\n",
    "plt.xlabel('Contract Terms')\n",
    "plt.ylabel('Count')\n",
    "plt.title('Distribution of Customer Churn by Contract Terms')\n",
    "plt.legend(title='Churn', loc='upper right')\n",
    "plt.show()"
   ]
  },
  {
   "cell_type": "code",
   "execution_count": 94,
   "id": "f7d19a53",
   "metadata": {},
   "outputs": [
    {
     "data": {
      "text/plain": [
       "<Figure size 576x432 with 0 Axes>"
      ]
     },
     "metadata": {},
     "output_type": "display_data"
    },
    {
     "data": {
      "image/png": "[encoded data removed]",
      "text/plain": [
       "<Figure size 432x288 with 1 Axes>"
      ]
     },
     "metadata": {
      "needs_background": "light"
     },
     "output_type": "display_data"
    }
   ],
   "source": [
    "# Select the variables of interest\n",
    "contract_terms = ['Month-to-month', 'One year', 'Two year']\n",
    "\n",
    "# Filter the dataset for the selected contract terms\n",
    "filtered_df = df[df['Contract'].isin(contract_terms)]\n",
    "\n",
    "# Create a cross-tabulation of contract terms and churn\n",
    "cross_tab = pd.crosstab(filtered_df['Contract'], filtered_df['Churn'])\n",
    "\n",
    "# Create a stacked bar plot\n",
    "plt.figure(figsize=(8, 6))\n",
    "cross_tab.plot(kind='bar', stacked=True)\n",
    "plt.xlabel('Contract Terms')\n",
    "plt.ylabel('Count')\n",
    "plt.title('Distribution of Customer Churn by Contract Terms')\n",
    "plt.legend(title='Churn', loc='upper right')\n",
    "plt.xticks(rotation=0)\n",
    "plt.show()"
   ]
  },
  {
   "cell_type": "markdown",
   "id": "281e75f7",
   "metadata": {},
   "source": [
    "From these visualizations, customers with **month-to-month** contract terms churned the most. Thus they are more likely to churn also in the future."
   ]
  },
  {
   "cell_type": "markdown",
   "id": "071a6357",
   "metadata": {},
   "source": [
    "### 4. Which payment method is associated with higher customer churn?"
   ]
  },
  {
   "cell_type": "code",
   "execution_count": 95,
   "id": "07cc68a2",
   "metadata": {},
   "outputs": [
    {
     "data": {
      "image/png": "[encoded data removed]",
      "text/plain": [
       "<Figure size 432x288 with 1 Axes>"
      ]
     },
     "metadata": {
      "needs_background": "light"
     },
     "output_type": "display_data"
    }
   ],
   "source": [
    "churn_rates=df.groupby('PaymentMethod')['Churn'].value_counts(normalize=True).unstack()\n",
    "churn_rates.plot(kind='barh', stacked=False)\n",
    "plt.xlabel('Churn Rate')\n",
    "plt.ylabel('Payment Method')\n",
    "plt.title('Churn Rate by Method of Payment');"
   ]
  },
  {
   "cell_type": "markdown",
   "id": "0a78700c",
   "metadata": {},
   "source": [
    "customers who have used **Electronic check** have churned the most compared to those who use other payment methods. \n"
   ]
  },
  {
   "cell_type": "markdown",
   "id": "f8e4e090",
   "metadata": {},
   "source": [
    "### 5. How can the organization leverage payment methods, contract terms, and billing preferences to reduce churn?"
   ]
  },
  {
   "cell_type": "markdown",
   "id": "3683e765",
   "metadata": {},
   "source": [
    "1. Offer Flexible Payment Methods: Provide customers with a variety of payment options such as electronic check, mailed check, bank transfer (automatic), and credit card (automatic). This allows customers to choose the payment method that suits them best, increasing convenience and reducing the likelihood of churn due to payment-related issues.\n",
    "\n",
    "2. Incentivize Long-Term Contracts: Encourage customers to sign up for longer contract terms (e.g., one year or two years) by offering benefits such as discounted rates, additional services, or loyalty rewards. Longer contracts provide stability and commitment, making customers less likely to churn.\n",
    "\n",
    "3. Personalize Billing Preferences: Allow customers to choose their billing preferences, such as paperless billing or traditional paper billing. Some customers prefer the convenience of electronic billing, while others may prefer physical copies. By accommodating individual preferences, the organization can enhance customer satisfaction and reduce churn.\n",
    "\n",
    "4. Analyze Customer Behavior and Preferences: Utilize customer data to analyze patterns and identify correlations between payment methods, contract terms, billing preferences, and churn. Look for trends or insights that indicate specific combinations of these factors that are associated with higher or lower churn rates. This analysis can help the organization tailor their retention strategies and target specific customer segments.\n",
    "\n",
    "5. Proactive Retention Strategies: Implement proactive measures to prevent churn. For example, identify customers who are approaching the end of their contract term and offer them incentives to renew or upgrade their services. Additionally, provide personalized offers or promotions to customers who have shown signs of potential churn based on their payment patterns or billing preferences.\n",
    "\n",
    "6. Improve Customer Support: Ensure that customer support services are readily available to address any payment-related concerns or billing inquiries. Prompt and effective resolution of customer issues can help build trust and loyalty, reducing the likelihood of churn.\n",
    "\n",
    "7. Continuous Monitoring and Optimization: Regularly monitor and analyze customer feedback, behavior, and churn rates associated with different payment methods, contract terms, and billing preferences. Continuously optimize and refine the organization's strategies based on the insights gained, aiming to align offerings with customer preferences and needs.\n",
    "\n",
    "By leveraging payment methods, contract terms, and billing preferences in these ways, the organization can enhance customer satisfaction, increase retention rates, and ultimately reduce churn."
   ]
  },
  {
   "cell_type": "markdown",
   "id": "901a3533",
   "metadata": {},
   "source": [
    "# Conclusion"
   ]
  },
  {
   "cell_type": "markdown",
   "id": "fed90b5a",
   "metadata": {},
   "source": [
    "The results of our hypothesis testing revealed a significant relationship between customer attributes and churn. This finding was further supported by our machine learning model, which achieved an F1 score of **85%**. The high F1 score validates the predictive power of the model in identifying churn based on the identified attributes. Thus, we can confidently conclude that customer attributes have a strong influence on churn."
   ]
  },
  {
   "cell_type": "markdown",
   "id": "15f7938e",
   "metadata": {},
   "source": [
    "# Recommendations"
   ]
  },
  {
   "cell_type": "markdown",
   "id": "c2d95042",
   "metadata": {},
   "source": [
    "With much recommendations given while addressing how to leverage payment methods, contract terms, and billing preferences to reduce churn, additional recommendations can be made specifically targeting customers with month-to-month contracts as follows:\n",
    "\n",
    "1. Encourage longer contract terms: Incentivize customers with month-to-month contracts to sign up for longer contract terms. Offer benefits such as discounted rates, additional services, or loyalty rewards for committing to one-year or two-year contracts. Longer contract terms provide stability and reduce the likelihood of churn.\n",
    "\n",
    "2. Simplify contract renewal process: Make the contract renewal process seamless and hassle-free for customers with month-to-month contracts. Send timely reminders, highlighting the benefits of switching to longer-term contracts. Offer easy online or automated renewal options to streamline the process and minimize customer effort.\n",
    "\n",
    "3. Improve value proposition for month-to-month contracts: Evaluate the value proposition of month-to-month contracts and identify areas for improvement. Assess if the pricing, services, or features of month-to-month contracts are competitive and attractive compared to longer-term options. Consider offering additional benefits or exclusive features for customers on month-to-month contracts to encourage retention.\n",
    "\n",
    "4. Personalize offers based on usage patterns: Analyze customer usage patterns and personalize offers for customers with month-to-month contracts. Tailor promotions or discounts based on their specific needs and usage behavior to highlight the value they derive from the service.\n",
    "\n",
    "5. Proactive customer outreach: Implement proactive measures to engage with customers on month-to-month contracts and understand their needs and concerns. Regularly communicate with them to address any issues, answer questions, or provide assistance. Offer proactive solutions or upgrades that align with their usage patterns and preferences.\n",
    "\n",
    "6. Provide flexible upgrade options: Offer flexible upgrade options for customers on month-to-month contracts. If they are considering upgrading their service or adding additional features, provide attractive offers and seamless transition processes."
   ]
  }
 ],
 "metadata": {
  "kernelspec": {
   "display_name": "Python 3 (ipykernel)",
   "language": "python",
   "name": "python3"
  },
  "language_info": {
   "codemirror_mode": {
    "name": "ipython",
    "version": 3
   },
   "file_extension": ".py",
   "mimetype": "text/x-python",
   "name": "python",
   "nbconvert_exporter": "python",
   "pygments_lexer": "ipython3",
   "version": "3.9.12"
  }
 },
 "nbformat": 4,
 "nbformat_minor": 5
}
